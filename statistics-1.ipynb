{
 "cells": [
  {
   "cell_type": "code",
   "execution_count": 48,
   "metadata": {},
   "outputs": [],
   "source": [
    "import numpy as np\n",
    "import pandas as pd\n",
    "from scipy import stats\n",
    "import matplotlib.pyplot as plt"
   ]
  },
  {
   "cell_type": "code",
   "execution_count": 49,
   "metadata": {},
   "outputs": [
    {
     "ename": "SyntaxError",
     "evalue": "invalid syntax (307920008.py, line 1)",
     "output_type": "error",
     "traceback": [
      "\u001b[1;36m  Cell \u001b[1;32mIn[49], line 1\u001b[1;36m\u001b[0m\n\u001b[1;33m    pip install scipy\u001b[0m\n\u001b[1;37m        ^\u001b[0m\n\u001b[1;31mSyntaxError\u001b[0m\u001b[1;31m:\u001b[0m invalid syntax\n"
     ]
    }
   ],
   "source": [
    "pip install scipy\n",
    "#pip install --user scipy\n",
    "#python -m pip install scipy\n",
    "\n",
    "#conda install scipy\n"
   ]
  },
  {
   "cell_type": "code",
   "execution_count": 59,
   "metadata": {},
   "outputs": [
    {
     "name": "stdout",
     "output_type": "stream",
     "text": [
      "Requirement already satisfied: scipy in c:\\users\\lenovo\\appdata\\local\\programs\\python\\python312\\lib\\site-packages (1.15.2)\n",
      "Requirement already satisfied: numpy<2.5,>=1.23.5 in c:\\users\\lenovo\\appdata\\local\\programs\\python\\python312\\lib\\site-packages (from scipy) (2.1.3)\n",
      "Note: you may need to restart the kernel to use updated packages.\n"
     ]
    },
    {
     "name": "stderr",
     "output_type": "stream",
     "text": [
      "\n",
      "[notice] A new release of pip is available: 24.2 -> 25.0.1\n",
      "[notice] To update, run: python.exe -m pip install --upgrade pip\n"
     ]
    }
   ],
   "source": [
    "pip install --user scipy"
   ]
  },
  {
   "cell_type": "markdown",
   "metadata": {},
   "source": []
  },
  {
   "cell_type": "markdown",
   "metadata": {},
   "source": [
    "# Large Numbers"
   ]
  },
  {
   "cell_type": "code",
   "execution_count": null,
   "metadata": {},
   "outputs": [],
   "source": [
    "#deneme sayısı \n",
    "n=1000"
   ]
  },
  {
   "cell_type": "code",
   "execution_count": null,
   "metadata": {},
   "outputs": [
    {
     "data": {
      "text/plain": [
       "array([2, 6, 1, 2, 6, 1, 6, 5, 2, 6, 3, 6, 5, 5, 5, 5, 4, 4, 5, 3, 5, 3,\n",
       "       2, 2, 6, 5, 1, 1, 1, 6, 5, 5, 6, 2, 3, 4, 4, 5, 6, 4, 4, 6, 1, 3,\n",
       "       6, 2, 4, 6, 6, 1, 2, 6, 6, 6, 2, 5, 2, 2, 4, 4, 3, 4, 6, 5, 2, 2,\n",
       "       1, 4, 4, 4, 6, 5, 5, 6, 3, 5, 6, 1, 1, 4, 2, 6, 5, 5, 6, 6, 3, 2,\n",
       "       5, 6, 5, 1, 5, 6, 1, 5, 6, 5, 2, 3, 1, 6, 5, 3, 5, 5, 6, 3, 2, 2,\n",
       "       5, 4, 4, 5, 5, 2, 5, 4, 3, 5, 1, 1, 1, 1, 2, 6, 2, 3, 3, 6, 6, 2,\n",
       "       2, 5, 6, 5, 4, 6, 3, 6, 6, 1, 4, 6, 3, 6, 5, 1, 4, 6, 3, 4, 3, 5,\n",
       "       3, 4, 1, 5, 5, 4, 4, 1, 4, 2, 4, 5, 5, 5, 5, 4, 4, 1, 1, 2, 6, 3,\n",
       "       5, 1, 1, 3, 3, 1, 1, 3, 1, 6, 6, 1, 5, 4, 1, 5, 4, 5, 5, 6, 5, 3,\n",
       "       4, 4, 1, 4, 4, 5, 3, 6, 1, 5, 6, 1, 3, 2, 1, 2, 1, 5, 1, 4, 4, 2,\n",
       "       6, 4, 6, 4, 2, 1, 4, 3, 6, 6, 5, 5, 1, 5, 1, 4, 3, 3, 2, 6, 4, 1,\n",
       "       2, 5, 6, 6, 3, 5, 3, 3, 6, 1, 2, 2, 2, 4, 1, 4, 1, 3, 4, 4, 3, 3,\n",
       "       6, 6, 1, 2, 5, 3, 1, 5, 1, 2, 4, 2, 3, 1, 5, 5, 6, 3, 1, 5, 6, 1,\n",
       "       3, 6, 2, 4, 3, 3, 6, 3, 6, 6, 3, 6, 4, 5, 1, 4, 2, 5, 1, 3, 3, 3,\n",
       "       2, 4, 6, 4, 1, 2, 3, 1, 2, 5, 1, 2, 6, 6, 6, 1, 2, 1, 3, 2, 1, 1,\n",
       "       2, 1, 1, 2, 3, 6, 5, 5, 6, 4, 5, 1, 2, 4, 1, 4, 6, 1, 1, 3, 4, 2,\n",
       "       5, 2, 4, 2, 5, 1, 1, 2, 2, 2, 2, 2, 4, 4, 2, 3, 3, 5, 2, 1, 2, 3,\n",
       "       5, 6, 6, 5, 6, 3, 6, 3, 4, 6, 4, 3, 4, 2, 6, 2, 4, 1, 2, 2, 1, 4,\n",
       "       3, 3, 5, 1, 3, 6, 1, 1, 4, 1, 4, 1, 5, 5, 1, 5, 6, 1, 1, 3, 5, 2,\n",
       "       2, 3, 5, 3, 5, 3, 5, 2, 6, 1, 4, 6, 2, 4, 3, 2, 4, 5, 2, 5, 3, 1,\n",
       "       2, 2, 3, 4, 4, 3, 4, 6, 6, 1, 4, 6, 3, 5, 3, 3, 2, 1, 3, 2, 2, 5,\n",
       "       1, 3, 3, 2, 3, 4, 2, 1, 3, 1, 6, 6, 3, 6, 6, 2, 2, 6, 6, 4, 5, 2,\n",
       "       1, 1, 2, 5, 2, 1, 2, 1, 1, 1, 4, 4, 4, 3, 6, 6, 1, 3, 5, 3, 6, 4,\n",
       "       5, 6, 6, 2, 5, 4, 4, 3, 2, 4, 6, 2, 3, 6, 1, 1, 3, 1, 5, 5, 4, 2,\n",
       "       2, 2, 5, 5, 3, 5, 3, 2, 2, 3, 5, 3, 5, 3, 4, 1, 1, 2, 5, 5, 3, 6,\n",
       "       5, 5, 2, 2, 4, 2, 4, 6, 2, 5, 3, 1, 4, 3, 3, 1, 6, 3, 2, 3, 3, 5,\n",
       "       6, 6, 5, 6, 3, 6, 3, 3, 4, 3, 4, 6, 3, 3, 5, 1, 5, 6, 1, 2, 2, 6,\n",
       "       5, 3, 3, 6, 2, 2, 3, 3, 5, 1, 2, 6, 5, 6, 4, 5, 6, 6, 4, 2, 4, 4,\n",
       "       4, 3, 3, 6, 3, 2, 3, 3, 2, 2, 6, 6, 3, 3, 6, 3, 4, 6, 5, 4, 4, 2,\n",
       "       6, 3, 2, 1, 1, 3, 2, 2, 4, 3, 3, 1, 6, 4, 6, 4, 1, 4, 5, 5, 3, 5,\n",
       "       2, 4, 3, 3, 1, 2, 6, 6, 5, 2, 4, 6, 1, 5, 3, 6, 6, 5, 4, 1, 2, 6,\n",
       "       6, 5, 1, 3, 5, 2, 1, 5, 4, 4, 2, 2, 4, 2, 4, 6, 1, 5, 1, 2, 6, 4,\n",
       "       5, 3, 3, 1, 4, 1, 2, 4, 2, 3, 1, 5, 4, 4, 3, 6, 1, 5, 3, 2, 1, 5,\n",
       "       3, 3, 3, 1, 4, 3, 6, 5, 4, 2, 1, 6, 2, 5, 3, 2, 3, 4, 6, 2, 5, 4,\n",
       "       5, 2, 1, 5, 3, 4, 4, 2, 1, 6, 6, 1, 4, 2, 5, 1, 1, 4, 5, 4, 6, 3,\n",
       "       1, 4, 2, 5, 1, 5, 5, 1, 2, 3, 4, 1, 4, 1, 2, 2, 3, 4, 4, 5, 3, 3,\n",
       "       2, 6, 3, 2, 3, 5, 5, 3, 5, 1, 1, 3, 3, 3, 2, 1, 5, 4, 4, 4, 5, 6,\n",
       "       4, 4, 1, 5, 3, 3, 5, 4, 4, 4, 5, 4, 1, 6, 5, 1, 5, 2, 1, 4, 5, 3,\n",
       "       4, 4, 1, 2, 3, 2, 5, 3, 3, 6, 3, 1, 1, 2, 2, 6, 4, 1, 3, 3, 4, 1,\n",
       "       5, 4, 3, 6, 3, 1, 2, 6, 6, 1, 3, 5, 5, 2, 5, 6, 6, 3, 4, 6, 6, 2,\n",
       "       6, 3, 6, 1, 5, 4, 1, 5, 6, 1, 5, 5, 3, 5, 5, 6, 1, 3, 2, 6, 6, 6,\n",
       "       2, 3, 3, 5, 4, 6, 5, 3, 2, 1, 2, 6, 3, 5, 6, 4, 2, 5, 2, 3, 3, 5,\n",
       "       5, 6, 2, 2, 2, 5, 6, 4, 2, 4, 3, 1, 5, 6, 6, 4, 3, 2, 3, 3, 4, 1,\n",
       "       6, 6, 4, 3, 1, 4, 4, 1, 2, 1, 2, 6, 6, 6, 3, 2, 1, 1, 4, 1, 3, 1,\n",
       "       1, 2, 2, 4, 2, 6, 4, 3, 4, 1, 6, 1, 5, 2, 6, 6, 2, 3, 4, 4, 2, 4,\n",
       "       1, 5, 4, 6, 2, 1, 4, 4, 3, 4], dtype=int32)"
      ]
     },
     "execution_count": 27,
     "metadata": {},
     "output_type": "execute_result"
    }
   ],
   "source": [
    "#1'den 6'ya kadar olan zar atışında rastgele 1000 tane sonuç üretelim\n",
    "\n",
    "np.random.seed(51)\n",
    "die_1 = np.random.randint(1,7, size=n)\n",
    "die_1"
   ]
  },
  {
   "cell_type": "code",
   "execution_count": null,
   "metadata": {},
   "outputs": [
    {
     "data": {
      "text/plain": [
       "array([4, 2, 1, 4, 4, 4, 2, 2, 6, 3, 2, 4, 2, 5, 4, 1, 3, 3, 5, 6, 2, 1,\n",
       "       6, 4, 4, 6, 5, 2, 3, 5, 4, 2, 5, 5, 4, 4, 4, 4, 2, 4, 1, 5, 5, 2,\n",
       "       4, 2, 4, 6, 6, 5, 2, 2, 6, 3, 2, 5, 2, 1, 4, 1, 5, 6, 3, 6, 4, 6,\n",
       "       2, 4, 3, 2, 4, 1, 5, 5, 4, 2, 2, 6, 3, 1, 4, 2, 4, 5, 5, 5, 3, 2,\n",
       "       3, 6, 6, 1, 2, 1, 4, 2, 3, 6, 6, 2, 2, 6, 1, 1, 6, 1, 5, 6, 1, 2,\n",
       "       3, 2, 1, 2, 5, 4, 5, 2, 3, 2, 5, 3, 2, 3, 3, 1, 1, 5, 6, 5, 1, 5,\n",
       "       4, 3, 5, 4, 4, 2, 2, 2, 3, 1, 1, 3, 4, 3, 3, 4, 2, 4, 5, 3, 4, 1,\n",
       "       5, 4, 5, 1, 3, 3, 4, 6, 1, 3, 1, 2, 6, 2, 2, 3, 5, 3, 6, 5, 6, 2,\n",
       "       6, 3, 1, 1, 5, 3, 3, 1, 5, 1, 2, 1, 4, 5, 3, 6, 4, 3, 5, 1, 6, 6,\n",
       "       2, 1, 1, 3, 1, 5, 2, 6, 2, 4, 6, 1, 5, 5, 6, 1, 1, 4, 2, 2, 6, 4,\n",
       "       5, 5, 6, 4, 5, 4, 1, 3, 1, 1, 1, 3, 5, 1, 6, 6, 4, 5, 5, 2, 2, 1,\n",
       "       6, 2, 5, 2, 5, 4, 4, 3, 5, 3, 2, 3, 4, 1, 5, 4, 3, 1, 2, 3, 6, 2,\n",
       "       1, 4, 6, 4, 6, 3, 2, 6, 4, 4, 6, 1, 1, 4, 3, 2, 5, 4, 3, 2, 3, 5,\n",
       "       3, 4, 6, 6, 3, 2, 5, 6, 4, 1, 2, 3, 4, 1, 6, 5, 5, 2, 4, 5, 2, 5,\n",
       "       1, 6, 6, 1, 6, 3, 1, 3, 3, 3, 3, 1, 6, 3, 3, 5, 6, 5, 1, 6, 1, 2,\n",
       "       2, 6, 6, 3, 2, 4, 2, 3, 4, 3, 5, 1, 6, 6, 3, 5, 6, 6, 2, 3, 5, 5,\n",
       "       3, 3, 3, 2, 1, 1, 1, 2, 3, 4, 4, 4, 1, 4, 1, 2, 2, 1, 5, 5, 3, 1,\n",
       "       6, 4, 6, 6, 2, 5, 4, 5, 5, 2, 4, 6, 5, 2, 4, 6, 5, 5, 4, 4, 3, 1,\n",
       "       1, 2, 2, 5, 3, 2, 2, 3, 3, 6, 6, 6, 1, 5, 1, 6, 6, 3, 3, 6, 1, 5,\n",
       "       6, 6, 2, 5, 3, 1, 2, 4, 1, 2, 5, 5, 1, 1, 5, 2, 3, 3, 6, 1, 3, 5,\n",
       "       4, 4, 4, 5, 3, 6, 5, 5, 4, 2, 5, 5, 6, 6, 5, 1, 5, 3, 5, 3, 5, 6,\n",
       "       6, 5, 1, 5, 2, 1, 1, 1, 2, 6, 6, 1, 3, 4, 1, 5, 1, 1, 2, 4, 3, 6,\n",
       "       6, 5, 2, 1, 2, 5, 2, 3, 6, 6, 1, 1, 3, 1, 1, 3, 1, 2, 1, 6, 5, 6,\n",
       "       2, 6, 3, 6, 4, 3, 1, 6, 4, 5, 2, 6, 1, 2, 4, 2, 6, 6, 4, 6, 1, 4,\n",
       "       2, 4, 2, 5, 1, 5, 3, 3, 1, 5, 5, 6, 5, 4, 2, 4, 2, 6, 3, 4, 6, 3,\n",
       "       5, 4, 1, 6, 1, 2, 6, 1, 5, 5, 2, 2, 1, 5, 4, 6, 3, 2, 1, 1, 3, 1,\n",
       "       4, 3, 2, 4, 3, 1, 5, 1, 3, 5, 5, 3, 3, 1, 2, 4, 6, 3, 6, 2, 2, 6,\n",
       "       1, 4, 1, 4, 1, 6, 5, 1, 2, 3, 4, 2, 6, 5, 3, 5, 2, 3, 4, 4, 6, 1,\n",
       "       5, 3, 3, 1, 2, 1, 2, 6, 4, 3, 6, 6, 3, 4, 6, 2, 5, 1, 4, 1, 3, 4,\n",
       "       1, 2, 3, 2, 6, 2, 1, 2, 5, 6, 5, 6, 3, 5, 6, 4, 1, 3, 2, 4, 6, 4,\n",
       "       5, 1, 2, 1, 1, 1, 3, 3, 3, 3, 6, 3, 1, 4, 1, 6, 6, 5, 5, 6, 6, 4,\n",
       "       1, 1, 1, 6, 3, 5, 4, 2, 5, 1, 4, 4, 1, 4, 2, 1, 1, 1, 5, 3, 1, 6,\n",
       "       2, 4, 4, 3, 1, 2, 4, 5, 5, 1, 3, 4, 3, 6, 1, 6, 2, 2, 2, 2, 5, 1,\n",
       "       4, 6, 5, 3, 6, 6, 5, 5, 1, 1, 3, 4, 2, 6, 5, 5, 3, 4, 5, 1, 4, 3,\n",
       "       2, 2, 6, 2, 6, 1, 3, 3, 2, 4, 3, 4, 2, 3, 2, 2, 6, 2, 1, 4, 2, 1,\n",
       "       4, 5, 1, 1, 5, 5, 5, 6, 2, 5, 5, 3, 5, 1, 3, 3, 5, 6, 1, 5, 3, 6,\n",
       "       4, 2, 4, 2, 2, 1, 4, 4, 6, 1, 4, 4, 1, 4, 2, 4, 1, 3, 1, 4, 4, 2,\n",
       "       6, 6, 3, 3, 6, 1, 2, 5, 4, 3, 4, 4, 6, 6, 6, 3, 3, 4, 6, 4, 3, 5,\n",
       "       5, 1, 1, 2, 6, 3, 5, 6, 4, 4, 4, 6, 4, 2, 5, 1, 5, 1, 6, 2, 1, 3,\n",
       "       1, 5, 5, 2, 3, 3, 2, 4, 5, 1, 6, 4, 6, 3, 4, 5, 6, 2, 6, 3, 1, 2,\n",
       "       5, 4, 5, 6, 4, 1, 2, 1, 4, 3, 2, 4, 3, 6, 1, 1, 5, 1, 5, 3, 4, 6,\n",
       "       1, 1, 1, 2, 5, 4, 2, 1, 2, 3, 3, 5, 6, 2, 6, 2, 1, 4, 2, 6, 6, 3,\n",
       "       4, 5, 5, 5, 2, 2, 4, 6, 4, 2, 3, 5, 2, 5, 6, 2, 2, 2, 6, 6, 1, 1,\n",
       "       4, 3, 2, 2, 3, 1, 4, 5, 6, 2, 6, 2, 3, 4, 1, 3, 1, 1, 4, 1, 2, 4,\n",
       "       3, 1, 3, 5, 3, 2, 2, 3, 2, 6, 4, 4, 2, 3, 5, 3, 4, 1, 2, 3, 2, 3,\n",
       "       6, 3, 2, 2, 4, 4, 4, 2, 4, 6], dtype=int32)"
      ]
     },
     "execution_count": 28,
     "metadata": {},
     "output_type": "execute_result"
    }
   ],
   "source": [
    "#2.zar atışı\n",
    "\n",
    "np.random.seed(81)\n",
    "die_2=np.random.randint(1,7, size=n)\n",
    "die_2"
   ]
  },
  {
   "cell_type": "code",
   "execution_count": null,
   "metadata": {},
   "outputs": [
    {
     "data": {
      "text/plain": [
       "array([ 6,  8,  2,  6, 10,  5,  8,  7,  8,  9,  5, 10,  7, 10,  9,  6,  7,\n",
       "        7, 10,  9,  7,  4,  8,  6, 10, 11,  6,  3,  4, 11,  9,  7, 11,  7,\n",
       "        7,  8,  8,  9,  8,  8,  5, 11,  6,  5, 10,  4,  8, 12, 12,  6,  4,\n",
       "        8, 12,  9,  4, 10,  4,  3,  8,  5,  8, 10,  9, 11,  6,  8,  3,  8,\n",
       "        7,  6, 10,  6, 10, 11,  7,  7,  8,  7,  4,  5,  6,  8,  9, 10, 11,\n",
       "       11,  6,  4,  8, 12, 11,  2,  7,  7,  5,  7,  9, 11,  8,  5,  3, 12,\n",
       "        6,  4, 11,  6, 11,  9,  3,  4,  8,  6,  5,  7, 10,  6, 10,  6,  6,\n",
       "        7,  6,  4,  3,  4,  5,  7,  3,  8,  9, 11,  7,  7,  6,  8, 11,  9,\n",
       "        8,  8,  5,  8,  9,  2,  5,  9,  7,  9,  8,  5,  6, 10,  8,  7,  7,\n",
       "        6,  8,  8,  6,  6,  8,  7,  8,  7,  5,  5,  5,  7, 11,  7,  7,  7,\n",
       "        9,  4,  7,  7, 12,  5, 11,  4,  2,  4,  8,  4,  4,  4,  6,  7,  8,\n",
       "        2,  9,  9,  4, 11,  8,  8, 10,  7, 11,  9,  6,  5,  2,  7,  5, 10,\n",
       "        5, 12,  3,  9, 12,  2,  8,  7,  7,  3,  2,  9,  3,  6, 10,  6, 11,\n",
       "        9, 12,  8,  7,  5,  5,  6,  7,  7,  6,  8,  6,  6,  7, 10,  7,  8,\n",
       "        7,  8,  6,  2,  8,  7, 11,  8,  8,  9,  7,  6, 11,  4,  4,  5,  6,\n",
       "        5,  6,  8,  4,  4,  6,  7,  9,  5,  7, 10,  7,  6, 11,  6,  3, 11,\n",
       "        5,  6, 10,  3,  4,  5,  8,  7, 11,  7,  4,  7,  9,  6,  6, 10,  8,\n",
       "       10,  6,  5, 11,  9, 10,  7,  5,  9,  8,  6,  7,  9,  7,  7,  5,  8,\n",
       "        5,  8,  3, 10, 12,  5,  7,  5,  4,  4,  5,  8,  4,  3, 12,  9,  9,\n",
       "        6,  8,  6,  4,  8,  2,  3,  4,  7,  7,  5,  5, 10,  7,  8, 10,  7,\n",
       "       10,  2,  8, 10,  4,  9, 12,  7,  3,  6,  9,  7,  8,  5,  7,  4,  6,\n",
       "        2,  2,  4,  5,  6,  6,  6,  5,  8,  3,  5,  5,  6,  7,  6,  5,  4,\n",
       "       11, 10, 12, 11,  8,  8, 10,  8,  9,  8,  8,  9,  9,  4, 10,  8,  9,\n",
       "        6,  6,  6,  4,  5,  4,  5,  7,  6,  6,  8,  3,  4,  7,  7, 10,  7,\n",
       "        6, 10,  2, 11, 12,  4,  4,  9,  6,  7,  8,  9,  7,  8,  8,  4,  7,\n",
       "        6,  7,  3,  9, 11,  3,  5,  8,  4,  7,  8,  8,  6,  6,  6,  6,  6,\n",
       "        7,  9,  7,  9,  9, 11, 10,  3,  9, 11,  9, 11,  8,  4,  7,  4,  8,\n",
       "        5,  7, 11,  7,  8,  4,  7,  5,  5,  3,  2,  5,  7, 12,  7,  6, 10,\n",
       "        7,  7,  3,  7,  8,  8,  8,  8,  7,  6,  4,  6,  4,  6,  4,  4,  7,\n",
       "        7,  5,  5,  7,  4,  7,  9,  2,  5,  6,  9, 11, 10,  7, 12,  9,  8,\n",
       "        9,  7,  5,  9,  6,  9,  8,  8,  4,  8,  5,  3,  9,  7,  9, 11,  5,\n",
       "        6,  4,  6,  7, 10,  4, 10,  6,  5,  3,  8, 10,  9, 10,  7,  6,  5,\n",
       "        3,  8,  8,  9,  9,  9, 10,  9,  3,  8,  5,  4, 10,  7,  7, 10,  5,\n",
       "        3,  5,  8,  7,  7,  9,  5,  3,  4,  6,  6, 10,  9,  7, 10,  6,  7,\n",
       "        8,  4,  7,  8,  9,  9,  6,  4,  7,  5, 11,  9,  7,  4,  4, 12,  6,\n",
       "        7,  4, 10,  3,  8,  8,  4,  7,  4,  6,  8, 11, 11,  7, 10,  8,  9,\n",
       "        8,  6, 10,  5,  9,  6,  6,  7,  5,  3,  5,  9,  6,  5, 12, 12,  6,\n",
       "        7, 12,  5,  9,  7,  9,  5,  7,  6,  7,  5,  5,  3,  7,  5,  3,  4,\n",
       "        9,  9,  8,  7,  9,  9, 12,  8,  2,  7,  7,  9,  9,  9,  7,  5,  5,\n",
       "        4,  2,  3,  9,  9,  8,  5, 10,  9,  2,  9,  4, 12, 12, 10,  9,  7,\n",
       "        8, 10,  7,  6,  2,  9,  8,  7,  5,  7,  9,  5,  6,  6,  5,  6,  6,\n",
       "        7,  2,  6,  6,  5,  7, 10,  7,  7,  7,  4,  5,  3,  6,  9,  7,  4,\n",
       "        4,  9,  7, 10,  4, 12,  3,  7,  5,  4,  6,  6,  7,  9,  8,  4, 10,\n",
       "        9, 11, 10,  5,  3,  4, 10,  4, 11,  8,  7,  6,  8, 11,  3,  9,  7,\n",
       "        7,  4,  7,  7,  9,  5,  7,  5,  3, 10,  9,  5,  6,  5,  7,  3,  7,\n",
       "        6,  6,  8,  8,  4,  5,  9,  3,  6,  6, 10, 10,  7,  4,  8,  9,  4,\n",
       "        9,  2,  5,  5,  8, 10,  5, 10,  6,  9,  6,  8,  7,  4,  5,  6,  9,\n",
       "        7, 11,  2,  5,  7,  4,  7,  4,  5,  6,  7,  5,  8,  9,  8, 10, 10,\n",
       "        4,  8,  9,  4,  7,  9,  8,  7,  9,  8,  7, 12, 11,  4,  8,  6,  7,\n",
       "        8,  8,  8,  9,  5,  2,  4,  9,  5, 10,  9,  7, 10,  7,  7,  5,  4,\n",
       "        7,  7,  9,  2,  9,  5,  5,  4,  6,  9,  8,  8,  6,  4,  4, 10, 11,\n",
       "        2,  9,  9, 11,  5,  9, 11, 12,  5, 10,  9,  7,  4, 11,  7, 11,  7,\n",
       "        9,  5,  3,  6, 10,  4,  7,  9,  6, 11,  6,  7,  6,  4,  7,  9, 10,\n",
       "       12,  3,  4,  4,  7,  9, 10,  7,  4,  4,  4,  5, 11,  9,  7, 12,  6,\n",
       "        3,  9,  4,  9,  9,  8,  9, 11,  7,  7,  4,  7, 10, 10,  6,  6,  6,\n",
       "        6,  7, 11, 12,  6,  5,  4,  9,  9,  5,  2, 10,  9,  6,  5,  4,  5,\n",
       "        8,  6,  8,  3,  8,  8,  9, 10,  4,  5,  2,  2,  8,  2,  5,  5,  4,\n",
       "        3,  5,  9,  5,  8,  6,  6,  6,  7, 10,  5,  7,  5, 11,  9,  6,  4,\n",
       "        6,  7,  4,  7,  7,  8,  6,  8,  6,  5,  8,  6,  7, 10],\n",
       "      dtype=int32)"
      ]
     },
     "execution_count": 29,
     "metadata": {},
     "output_type": "execute_result"
    }
   ],
   "source": [
    "x=die_1 + die_2\n",
    "x"
   ]
  },
  {
   "cell_type": "code",
   "execution_count": null,
   "metadata": {},
   "outputs": [
    {
     "data": {
      "text/html": [
       "<div>\n",
       "<style scoped>\n",
       "    .dataframe tbody tr th:only-of-type {\n",
       "        vertical-align: middle;\n",
       "    }\n",
       "\n",
       "    .dataframe tbody tr th {\n",
       "        vertical-align: top;\n",
       "    }\n",
       "\n",
       "    .dataframe thead th {\n",
       "        text-align: right;\n",
       "    }\n",
       "</style>\n",
       "<table border=\"1\" class=\"dataframe\">\n",
       "  <thead>\n",
       "    <tr style=\"text-align: right;\">\n",
       "      <th></th>\n",
       "      <th>die_1</th>\n",
       "      <th>die_2</th>\n",
       "      <th>x</th>\n",
       "    </tr>\n",
       "  </thead>\n",
       "  <tbody>\n",
       "    <tr>\n",
       "      <th>0</th>\n",
       "      <td>2</td>\n",
       "      <td>4</td>\n",
       "      <td>6</td>\n",
       "    </tr>\n",
       "    <tr>\n",
       "      <th>1</th>\n",
       "      <td>6</td>\n",
       "      <td>2</td>\n",
       "      <td>8</td>\n",
       "    </tr>\n",
       "    <tr>\n",
       "      <th>2</th>\n",
       "      <td>1</td>\n",
       "      <td>1</td>\n",
       "      <td>2</td>\n",
       "    </tr>\n",
       "    <tr>\n",
       "      <th>3</th>\n",
       "      <td>2</td>\n",
       "      <td>4</td>\n",
       "      <td>6</td>\n",
       "    </tr>\n",
       "    <tr>\n",
       "      <th>4</th>\n",
       "      <td>6</td>\n",
       "      <td>4</td>\n",
       "      <td>10</td>\n",
       "    </tr>\n",
       "    <tr>\n",
       "      <th>...</th>\n",
       "      <td>...</td>\n",
       "      <td>...</td>\n",
       "      <td>...</td>\n",
       "    </tr>\n",
       "    <tr>\n",
       "      <th>995</th>\n",
       "      <td>1</td>\n",
       "      <td>4</td>\n",
       "      <td>5</td>\n",
       "    </tr>\n",
       "    <tr>\n",
       "      <th>996</th>\n",
       "      <td>4</td>\n",
       "      <td>4</td>\n",
       "      <td>8</td>\n",
       "    </tr>\n",
       "    <tr>\n",
       "      <th>997</th>\n",
       "      <td>4</td>\n",
       "      <td>2</td>\n",
       "      <td>6</td>\n",
       "    </tr>\n",
       "    <tr>\n",
       "      <th>998</th>\n",
       "      <td>3</td>\n",
       "      <td>4</td>\n",
       "      <td>7</td>\n",
       "    </tr>\n",
       "    <tr>\n",
       "      <th>999</th>\n",
       "      <td>4</td>\n",
       "      <td>6</td>\n",
       "      <td>10</td>\n",
       "    </tr>\n",
       "  </tbody>\n",
       "</table>\n",
       "<p>1000 rows × 3 columns</p>\n",
       "</div>"
      ],
      "text/plain": [
       "     die_1  die_2   x\n",
       "0        2      4   6\n",
       "1        6      2   8\n",
       "2        1      1   2\n",
       "3        2      4   6\n",
       "4        6      4  10\n",
       "..     ...    ...  ..\n",
       "995      1      4   5\n",
       "996      4      4   8\n",
       "997      4      2   6\n",
       "998      3      4   7\n",
       "999      4      6  10\n",
       "\n",
       "[1000 rows x 3 columns]"
      ]
     },
     "execution_count": 30,
     "metadata": {},
     "output_type": "execute_result"
    }
   ],
   "source": [
    "#dataframe\n",
    "\n",
    "df = pd.DataFrame({\"die_1\" : die_1, \"die_2\" : die_2, \"x\" : x})\n",
    "df"
   ]
  },
  {
   "cell_type": "code",
   "execution_count": null,
   "metadata": {},
   "outputs": [
    {
     "name": "stdout",
     "output_type": "stream",
     "text": [
      "104\n"
     ]
    },
    {
     "data": {
      "text/plain": [
       "0.104"
      ]
     },
     "execution_count": 31,
     "metadata": {},
     "output_type": "execute_result"
    }
   ],
   "source": [
    "#x=4 gelme olasılığı\n",
    "\n",
    "total_four=df[df.x == 4 ]\n",
    "print(len(total_four))\n",
    "\n",
    "p = len(total_four) / len(df)\n",
    "p"
   ]
  },
  {
   "cell_type": "code",
   "execution_count": null,
   "metadata": {},
   "outputs": [
    {
     "data": {
      "text/plain": [
       "x\n",
       "7     170\n",
       "6     131\n",
       "8     125\n",
       "9     122\n",
       "5     114\n",
       "4     104\n",
       "10     76\n",
       "11     53\n",
       "3      46\n",
       "2      30\n",
       "12     29\n",
       "Name: count, dtype: int64"
      ]
     },
     "execution_count": 32,
     "metadata": {},
     "output_type": "execute_result"
    }
   ],
   "source": [
    "#2 zar toplamının frekanslarını bulalım\n",
    "\n",
    "f = df.x.value_counts()\n",
    "f"
   ]
  },
  {
   "cell_type": "code",
   "execution_count": null,
   "metadata": {},
   "outputs": [
    {
     "data": {
      "image/png": "[encoded data removed]",
      "text/plain": [
       "<Figure size 640x480 with 1 Axes>"
      ]
     },
     "metadata": {},
     "output_type": "display_data"
    }
   ],
   "source": [
    "%matplotlib inline \n",
    "f.sort_index().plot(kind= \"bar\", grid= True);"
   ]
  },
  {
   "cell_type": "code",
   "execution_count": null,
   "metadata": {},
   "outputs": [
    {
     "data": {
      "text/plain": [
       "x\n",
       "7     0.170\n",
       "6     0.131\n",
       "8     0.125\n",
       "9     0.122\n",
       "5     0.114\n",
       "4     0.104\n",
       "10    0.076\n",
       "11    0.053\n",
       "3     0.046\n",
       "2     0.030\n",
       "12    0.029\n",
       "Name: count, dtype: float64"
      ]
     },
     "execution_count": 34,
     "metadata": {},
     "output_type": "execute_result"
    }
   ],
   "source": [
    "#göreceli frekasnlar\n",
    "p = df.x.value_counts() / n\n",
    "p"
   ]
  },
  {
   "cell_type": "code",
   "execution_count": null,
   "metadata": {},
   "outputs": [
    {
     "data": {
      "image/png": "[encoded data removed]",
      "text/plain": [
       "<Figure size 640x480 with 1 Axes>"
      ]
     },
     "metadata": {},
     "output_type": "display_data"
    }
   ],
   "source": [
    "%matplotlib inline \n",
    "p.sort_index().plot(kind= \"bar\", grid= True);"
   ]
  },
  {
   "cell_type": "markdown",
   "metadata": {},
   "source": []
  },
  {
   "cell_type": "markdown",
   "metadata": {},
   "source": []
  },
  {
   "cell_type": "markdown",
   "metadata": {},
   "source": [
    "# Confidence Interval Sample"
   ]
  },
  {
   "cell_type": "code",
   "execution_count": null,
   "metadata": {},
   "outputs": [],
   "source": [
    "import seaborn as sns"
   ]
  },
  {
   "cell_type": "code",
   "execution_count": null,
   "metadata": {},
   "outputs": [
    {
     "data": {
      "text/plain": [
       "['anagrams',\n",
       " 'anscombe',\n",
       " 'attention',\n",
       " 'brain_networks',\n",
       " 'car_crashes',\n",
       " 'diamonds',\n",
       " 'dots',\n",
       " 'dowjones',\n",
       " 'exercise',\n",
       " 'flights',\n",
       " 'fmri',\n",
       " 'geyser',\n",
       " 'glue',\n",
       " 'healthexp',\n",
       " 'iris',\n",
       " 'mpg',\n",
       " 'penguins',\n",
       " 'planets',\n",
       " 'seaice',\n",
       " 'taxis',\n",
       " 'tips',\n",
       " 'titanic']"
      ]
     },
     "execution_count": 41,
     "metadata": {},
     "output_type": "execute_result"
    }
   ],
   "source": [
    "#seaborn'daki datasetlerini kullanacağız\n",
    "\n",
    "sns.get_dataset_names()"
   ]
  },
  {
   "cell_type": "code",
   "execution_count": null,
   "metadata": {},
   "outputs": [
    {
     "data": {
      "text/html": [
       "<div>\n",
       "<style scoped>\n",
       "    .dataframe tbody tr th:only-of-type {\n",
       "        vertical-align: middle;\n",
       "    }\n",
       "\n",
       "    .dataframe tbody tr th {\n",
       "        vertical-align: top;\n",
       "    }\n",
       "\n",
       "    .dataframe thead th {\n",
       "        text-align: right;\n",
       "    }\n",
       "</style>\n",
       "<table border=\"1\" class=\"dataframe\">\n",
       "  <thead>\n",
       "    <tr style=\"text-align: right;\">\n",
       "      <th></th>\n",
       "      <th>total_bill</th>\n",
       "      <th>tip</th>\n",
       "      <th>sex</th>\n",
       "      <th>smoker</th>\n",
       "      <th>day</th>\n",
       "      <th>time</th>\n",
       "      <th>size</th>\n",
       "    </tr>\n",
       "  </thead>\n",
       "  <tbody>\n",
       "    <tr>\n",
       "      <th>0</th>\n",
       "      <td>16.99</td>\n",
       "      <td>1.01</td>\n",
       "      <td>Female</td>\n",
       "      <td>No</td>\n",
       "      <td>Sun</td>\n",
       "      <td>Dinner</td>\n",
       "      <td>2</td>\n",
       "    </tr>\n",
       "    <tr>\n",
       "      <th>1</th>\n",
       "      <td>10.34</td>\n",
       "      <td>1.66</td>\n",
       "      <td>Male</td>\n",
       "      <td>No</td>\n",
       "      <td>Sun</td>\n",
       "      <td>Dinner</td>\n",
       "      <td>3</td>\n",
       "    </tr>\n",
       "    <tr>\n",
       "      <th>2</th>\n",
       "      <td>21.01</td>\n",
       "      <td>3.50</td>\n",
       "      <td>Male</td>\n",
       "      <td>No</td>\n",
       "      <td>Sun</td>\n",
       "      <td>Dinner</td>\n",
       "      <td>3</td>\n",
       "    </tr>\n",
       "    <tr>\n",
       "      <th>3</th>\n",
       "      <td>23.68</td>\n",
       "      <td>3.31</td>\n",
       "      <td>Male</td>\n",
       "      <td>No</td>\n",
       "      <td>Sun</td>\n",
       "      <td>Dinner</td>\n",
       "      <td>2</td>\n",
       "    </tr>\n",
       "    <tr>\n",
       "      <th>4</th>\n",
       "      <td>24.59</td>\n",
       "      <td>3.61</td>\n",
       "      <td>Female</td>\n",
       "      <td>No</td>\n",
       "      <td>Sun</td>\n",
       "      <td>Dinner</td>\n",
       "      <td>4</td>\n",
       "    </tr>\n",
       "  </tbody>\n",
       "</table>\n",
       "</div>"
      ],
      "text/plain": [
       "   total_bill   tip     sex smoker  day    time  size\n",
       "0       16.99  1.01  Female     No  Sun  Dinner     2\n",
       "1       10.34  1.66    Male     No  Sun  Dinner     3\n",
       "2       21.01  3.50    Male     No  Sun  Dinner     3\n",
       "3       23.68  3.31    Male     No  Sun  Dinner     2\n",
       "4       24.59  3.61  Female     No  Sun  Dinner     4"
      ]
     },
     "execution_count": 46,
     "metadata": {},
     "output_type": "execute_result"
    }
   ],
   "source": [
    "#tips data seti\n",
    "\n",
    "tips = sns.load_dataset(\"tips\")\n",
    "tips.head()"
   ]
  },
  {
   "cell_type": "code",
   "execution_count": null,
   "metadata": {},
   "outputs": [
    {
     "name": "stderr",
     "output_type": "stream",
     "text": [
      "C:\\Users\\Lenovo\\AppData\\Local\\Temp\\ipykernel_6328\\3733830682.py:3: FutureWarning: \n",
      "\n",
      "The `ci` parameter is deprecated. Use `errorbar=('ci', 95)` for the same effect.\n",
      "\n",
      "  sns.barplot(x = \"day\", y = \"total_bill\", data = tips, ci=95)\n"
     ]
    },
    {
     "data": {
      "text/plain": [
       "<Axes: xlabel='day', ylabel='total_bill'>"
      ]
     },
     "execution_count": 47,
     "metadata": {},
     "output_type": "execute_result"
    },
    {
     "data": {
      "image/png": "[encoded data removed]",
      "text/plain": [
       "<Figure size 640x480 with 1 Axes>"
      ]
     },
     "metadata": {},
     "output_type": "display_data"
    }
   ],
   "source": [
    "#day ve total_bill için barplot çizelim  CI= confidence ınterval:95\n",
    "\n",
    "sns.barplot(x = \"day\", y = \"total_bill\", data = tips, ci=95)"
   ]
  },
  {
   "cell_type": "markdown",
   "metadata": {},
   "source": [
    "#siyah çizgiler ci gösteriyor"
   ]
  },
  {
   "cell_type": "code",
   "execution_count": 50,
   "metadata": {},
   "outputs": [
    {
     "data": {
      "text/html": [
       "<div>\n",
       "<style scoped>\n",
       "    .dataframe tbody tr th:only-of-type {\n",
       "        vertical-align: middle;\n",
       "    }\n",
       "\n",
       "    .dataframe tbody tr th {\n",
       "        vertical-align: top;\n",
       "    }\n",
       "\n",
       "    .dataframe thead th {\n",
       "        text-align: right;\n",
       "    }\n",
       "</style>\n",
       "<table border=\"1\" class=\"dataframe\">\n",
       "  <thead>\n",
       "    <tr style=\"text-align: right;\">\n",
       "      <th></th>\n",
       "      <th>total_bill</th>\n",
       "      <th>tip</th>\n",
       "      <th>sex</th>\n",
       "      <th>smoker</th>\n",
       "      <th>day</th>\n",
       "      <th>time</th>\n",
       "      <th>size</th>\n",
       "    </tr>\n",
       "  </thead>\n",
       "  <tbody>\n",
       "    <tr>\n",
       "      <th>0</th>\n",
       "      <td>16.99</td>\n",
       "      <td>1.01</td>\n",
       "      <td>Female</td>\n",
       "      <td>No</td>\n",
       "      <td>Sun</td>\n",
       "      <td>Dinner</td>\n",
       "      <td>2</td>\n",
       "    </tr>\n",
       "    <tr>\n",
       "      <th>1</th>\n",
       "      <td>10.34</td>\n",
       "      <td>1.66</td>\n",
       "      <td>Male</td>\n",
       "      <td>No</td>\n",
       "      <td>Sun</td>\n",
       "      <td>Dinner</td>\n",
       "      <td>3</td>\n",
       "    </tr>\n",
       "    <tr>\n",
       "      <th>2</th>\n",
       "      <td>21.01</td>\n",
       "      <td>3.50</td>\n",
       "      <td>Male</td>\n",
       "      <td>No</td>\n",
       "      <td>Sun</td>\n",
       "      <td>Dinner</td>\n",
       "      <td>3</td>\n",
       "    </tr>\n",
       "    <tr>\n",
       "      <th>3</th>\n",
       "      <td>23.68</td>\n",
       "      <td>3.31</td>\n",
       "      <td>Male</td>\n",
       "      <td>No</td>\n",
       "      <td>Sun</td>\n",
       "      <td>Dinner</td>\n",
       "      <td>2</td>\n",
       "    </tr>\n",
       "    <tr>\n",
       "      <th>4</th>\n",
       "      <td>24.59</td>\n",
       "      <td>3.61</td>\n",
       "      <td>Female</td>\n",
       "      <td>No</td>\n",
       "      <td>Sun</td>\n",
       "      <td>Dinner</td>\n",
       "      <td>4</td>\n",
       "    </tr>\n",
       "  </tbody>\n",
       "</table>\n",
       "</div>"
      ],
      "text/plain": [
       "   total_bill   tip     sex smoker  day    time  size\n",
       "0       16.99  1.01  Female     No  Sun  Dinner     2\n",
       "1       10.34  1.66    Male     No  Sun  Dinner     3\n",
       "2       21.01  3.50    Male     No  Sun  Dinner     3\n",
       "3       23.68  3.31    Male     No  Sun  Dinner     2\n",
       "4       24.59  3.61  Female     No  Sun  Dinner     4"
      ]
     },
     "execution_count": 50,
     "metadata": {},
     "output_type": "execute_result"
    }
   ],
   "source": [
    "#sunday'i dikkate alalım\n",
    "\n",
    "tipssun = tips[tips[\"day\"] == \"Sun\"]\n",
    "tipssun.head()"
   ]
  },
  {
   "cell_type": "code",
   "execution_count": null,
   "metadata": {},
   "outputs": [
    {
     "data": {
      "text/plain": [
       "np.float64(8.832121828869889)"
      ]
     },
     "execution_count": 51,
     "metadata": {},
     "output_type": "execute_result"
    }
   ],
   "source": [
    "#mean and std sapma\n",
    "\n",
    "tipssun[\"total_bill\"].std()"
   ]
  },
  {
   "cell_type": "code",
   "execution_count": null,
   "metadata": {},
   "outputs": [
    {
     "data": {
      "text/plain": [
       "np.float64(1.0131138555021968)"
      ]
     },
     "execution_count": 52,
     "metadata": {},
     "output_type": "execute_result"
    }
   ],
   "source": [
    "#standart error of the mean (SE)\n",
    "#SE = sigma / sqrt(n)\n",
    "\n",
    "sem = tipssun[\"total_bill\"].std() / np.sqrt(len(tipssun))\n",
    "sem"
   ]
  },
  {
   "cell_type": "code",
   "execution_count": null,
   "metadata": {},
   "outputs": [
    {
     "data": {
      "text/plain": [
       "np.float64(1.959963984540054)"
      ]
     },
     "execution_count": 53,
     "metadata": {},
     "output_type": "execute_result"
    }
   ],
   "source": [
    "#margin of error calculate  MOE\n",
    "#%95 için\n",
    "#önce z değeri hesapla  z = 1.96\n",
    "\n",
    "z = stats.norm.ppf(0.975)\n",
    "z"
   ]
  },
  {
   "cell_type": "code",
   "execution_count": 54,
   "metadata": {},
   "outputs": [
    {
     "data": {
      "text/plain": [
       "np.float64(1.9856666690228222)"
      ]
     },
     "execution_count": 54,
     "metadata": {},
     "output_type": "execute_result"
    }
   ],
   "source": [
    "moe = z*sem\n",
    "moe"
   ]
  },
  {
   "cell_type": "code",
   "execution_count": 55,
   "metadata": {},
   "outputs": [
    {
     "data": {
      "text/plain": [
       "np.float64(23.395666669022823)"
      ]
     },
     "execution_count": 55,
     "metadata": {},
     "output_type": "execute_result"
    }
   ],
   "source": [
    "#CI üst limit değeri\n",
    "\n",
    "tipssun[\"total_bill\"].mean() + moe"
   ]
  },
  {
   "cell_type": "code",
   "execution_count": 56,
   "metadata": {},
   "outputs": [
    {
     "data": {
      "text/plain": [
       "np.float64(19.424333330977177)"
      ]
     },
     "execution_count": 56,
     "metadata": {},
     "output_type": "execute_result"
    }
   ],
   "source": [
    "#CI alt limit\n",
    "\n",
    "tipssun[\"total_bill\"].mean() - moe"
   ]
  },
  {
   "cell_type": "markdown",
   "metadata": {},
   "source": [
    "#grafikteki siyah çizgilerden kontrol edebilirsin"
   ]
  },
  {
   "cell_type": "code",
   "execution_count": 58,
   "metadata": {},
   "outputs": [
    {
     "data": {
      "text/plain": [
       "(np.float64(19.424333330977177), np.float64(23.395666669022823))"
      ]
     },
     "execution_count": 58,
     "metadata": {},
     "output_type": "execute_result"
    }
   ],
   "source": [
    "#scipy kütüpden de hesaplanabilir\n",
    "\n",
    "stats.norm.interval(0.95, loc = tipssun[\"total_bill\"].mean(), scale = sem)"
   ]
  },
  {
   "cell_type": "markdown",
   "metadata": {},
   "source": []
  },
  {
   "cell_type": "markdown",
   "metadata": {},
   "source": []
  },
  {
   "cell_type": "markdown",
   "metadata": {},
   "source": []
  },
  {
   "cell_type": "markdown",
   "metadata": {},
   "source": [
    "# HİPOTEZ TESTİNG"
   ]
  },
  {
   "cell_type": "markdown",
   "metadata": {},
   "source": [
    "# 1- Sample Z Test\n",
    "\n",
    "#popülasyon ortalaması ve std sapma bilindiğinde kullanılır"
   ]
  },
  {
   "cell_type": "markdown",
   "metadata": {},
   "source": []
  },
  {
   "cell_type": "markdown",
   "metadata": {},
   "source": [
    "1.1 Example\n",
    "\n",
    "bir denizde olması gerkeen kurşun seviyesi 10p/m seviyesindedir. \n",
    "pop normal dağılıma uygun olmakla beraber std.dev = 1.5\n",
    "bizim alacağımız 40 farklı örneklerde kurşun seviyesi ölçüldü ve ort 10.5 bulundu (sample mean)\n",
    "bu ort daki fark alfa = 0.05 i.in (%95 güven için) istatiksel olarak anlamlı mıdır?"
   ]
  },
  {
   "cell_type": "code",
   "execution_count": 61,
   "metadata": {},
   "outputs": [],
   "source": [
    "import scipy.stats as stats\n",
    "from math import sqrt\n"
   ]
  },
  {
   "cell_type": "code",
   "execution_count": 63,
   "metadata": {},
   "outputs": [],
   "source": [
    "#değişkenleri tanımla\n",
    "\n",
    "x_bar=10.5\n",
    "n=40\n",
    "sigma=1.5\n",
    "mu=10"
   ]
  },
  {
   "cell_type": "code",
   "execution_count": 64,
   "metadata": {},
   "outputs": [
    {
     "data": {
      "text/plain": [
       "2.1081851067789197"
      ]
     },
     "execution_count": 64,
     "metadata": {},
     "output_type": "execute_result"
    }
   ],
   "source": [
    "z = (x_bar - mu) / (sigma/sqrt(n))\n",
    "z"
   ]
  },
  {
   "cell_type": "code",
   "execution_count": 65,
   "metadata": {},
   "outputs": [
    {
     "data": {
      "text/plain": [
       "np.float64(0.017507490509831247)"
      ]
     },
     "execution_count": 65,
     "metadata": {},
     "output_type": "execute_result"
    }
   ],
   "source": [
    "p_value = 1 - stats.norm.cdf(z)\n",
    "p_value"
   ]
  },
  {
   "cell_type": "code",
   "execution_count": 66,
   "metadata": {},
   "outputs": [
    {
     "name": "stdout",
     "output_type": "stream",
     "text": [
      "at 0.05 level of significance, we can reject the null hypothesis in favor of alternative hypothesis.\n"
     ]
    }
   ],
   "source": [
    "alpha = 0.05\n",
    "\n",
    "if p_value < alpha:\n",
    "    print(\"at {} level of significance, we can reject the null hypothesis in favor of alternative hypothesis.\".format(alpha))\n",
    "else:\n",
    "    print(\"at {} level of significance, we fail to reject the null hypothesis\".format(alpha))"
   ]
  },
  {
   "cell_type": "markdown",
   "metadata": {},
   "source": [
    "#p değeri alfa değerinden küçük ise reject olur"
   ]
  },
  {
   "cell_type": "markdown",
   "metadata": {},
   "source": []
  },
  {
   "cell_type": "markdown",
   "metadata": {},
   "source": [
    "1.2 Example\n",
    "\n",
    "bir mağazada eğer aylık ortalama hesap 170 dolardan fazla ise yeni bir faturalandırma sisteminin ekonomik olacağı belirlenmiştir\n",
    "400 adet aylık hesaptan oluşan bir random örneklemde sample ortlaamsı 178 dolar olan bir seçim yapılmıştır\n",
    "hesaplar yaklaşık normal dağılıp standart sapması 65 doalrdır\n",
    "yeni sistem yatırım için ekonomik oalrka uygun mudur?"
   ]
  },
  {
   "cell_type": "code",
   "execution_count": 67,
   "metadata": {},
   "outputs": [],
   "source": [
    "x_bar=178\n",
    "n=400\n",
    "sigam=65\n",
    "mu=170"
   ]
  },
  {
   "cell_type": "code",
   "execution_count": 68,
   "metadata": {},
   "outputs": [
    {
     "data": {
      "text/plain": [
       "106.66666666666667"
      ]
     },
     "execution_count": 68,
     "metadata": {},
     "output_type": "execute_result"
    }
   ],
   "source": [
    "#z score \n",
    "z=(x_bar - mu) / (sigma/sqrt(n))\n",
    "z"
   ]
  },
  {
   "cell_type": "code",
   "execution_count": 69,
   "metadata": {},
   "outputs": [
    {
     "data": {
      "text/plain": [
       "np.float64(0.0)"
      ]
     },
     "execution_count": 69,
     "metadata": {},
     "output_type": "execute_result"
    }
   ],
   "source": [
    "#p value\n",
    "\n",
    "p_value=1-stats.norm.cdf(z)\n",
    "p_value"
   ]
  },
  {
   "cell_type": "code",
   "execution_count": 70,
   "metadata": {},
   "outputs": [
    {
     "name": "stdout",
     "output_type": "stream",
     "text": [
      "at 0.05 level of significance, we can reject the null hypothesis in favor of alternative hypothesis.\n"
     ]
    }
   ],
   "source": [
    "alpha = 0.05\n",
    "\n",
    "if p_value < alpha:\n",
    "    print(\"at {} level of significance, we can reject the null hypothesis in favor of alternative hypothesis.\".format(alpha))\n",
    "else:\n",
    "    print(\"at {} level of significance, we fail to reject the null hypothesis\".format(alpha))"
   ]
  },
  {
   "cell_type": "markdown",
   "metadata": {},
   "source": []
  },
  {
   "cell_type": "markdown",
   "metadata": {},
   "source": [
    "# 2- One Sample t Test"
   ]
  },
  {
   "cell_type": "markdown",
   "metadata": {},
   "source": [
    "2.1 Example\n",
    "\n",
    "bir eğitim kurumunun 1000 öğrencisi var \n",
    "öğrencilerin daha önceden ort IQ 110\n",
    "yeni durumda 20 randomly öğrencinin IQ bakılmıştır. bu 20 öğrencinin ort IQ 108 std 10 ise alpha= 0.01 için bu sonuçlar anlamlı mı?"
   ]
  },
  {
   "cell_type": "code",
   "execution_count": 71,
   "metadata": {},
   "outputs": [],
   "source": [
    "x_bar=108\n",
    "n=20\n",
    "s=10\n",
    "mu=110\n",
    "alpha=0.01"
   ]
  },
  {
   "cell_type": "code",
   "execution_count": 72,
   "metadata": {},
   "outputs": [
    {
     "data": {
      "text/plain": [
       "-0.8944271909999159"
      ]
     },
     "execution_count": 72,
     "metadata": {},
     "output_type": "execute_result"
    }
   ],
   "source": [
    "#t score\n",
    "\n",
    "t=(x_bar - mu) / (s/sqrt(n))\n",
    "t"
   ]
  },
  {
   "cell_type": "code",
   "execution_count": 73,
   "metadata": {},
   "outputs": [
    {
     "data": {
      "text/plain": [
       "np.float64(0.1911420676837155)"
      ]
     },
     "execution_count": 73,
     "metadata": {},
     "output_type": "execute_result"
    }
   ],
   "source": [
    "#p value\n",
    "\n",
    "p_value=stats.t.cdf(t, n-1)\n",
    "p_value"
   ]
  },
  {
   "cell_type": "code",
   "execution_count": 74,
   "metadata": {},
   "outputs": [
    {
     "name": "stdout",
     "output_type": "stream",
     "text": [
      "at 0.05 level of significance, we fail to reject the null hypothesis\n"
     ]
    }
   ],
   "source": [
    "alpha = 0.05\n",
    "\n",
    "if p_value < alpha:\n",
    "    print(\"at {} level of significance, we can reject the null hypothesis in favor of alternative hypothesis.\".format(alpha))\n",
    "else:\n",
    "    print(\"at {} level of significance, we fail to reject the null hypothesis\".format(alpha))"
   ]
  },
  {
   "cell_type": "markdown",
   "metadata": {},
   "source": []
  },
  {
   "cell_type": "markdown",
   "metadata": {},
   "source": [
    "2.2 Example\n",
    "\n",
    "üni öğrencilerinin ort 2-7.2 saat uyuyup uyumadığını analiz edin:\n",
    "\n",
    "H0: mu = 7.2\n",
    "Ha: mu!= 7.2\n",
    "\n",
    "alpha=0.05"
   ]
  },
  {
   "cell_type": "code",
   "execution_count": 75,
   "metadata": {},
   "outputs": [],
   "source": [
    "import math"
   ]
  },
  {
   "cell_type": "code",
   "execution_count": 77,
   "metadata": {},
   "outputs": [
    {
     "data": {
      "text/html": [
       "<div>\n",
       "<style scoped>\n",
       "    .dataframe tbody tr th:only-of-type {\n",
       "        vertical-align: middle;\n",
       "    }\n",
       "\n",
       "    .dataframe tbody tr th {\n",
       "        vertical-align: top;\n",
       "    }\n",
       "\n",
       "    .dataframe thead th {\n",
       "        text-align: right;\n",
       "    }\n",
       "</style>\n",
       "<table border=\"1\" class=\"dataframe\">\n",
       "  <thead>\n",
       "    <tr style=\"text-align: right;\">\n",
       "      <th></th>\n",
       "      <th>ID</th>\n",
       "      <th>Gender</th>\n",
       "      <th>Classification</th>\n",
       "      <th>Height</th>\n",
       "      <th>Shoe Size</th>\n",
       "      <th>Phone Time</th>\n",
       "      <th># of Shoes</th>\n",
       "      <th>Birth order</th>\n",
       "      <th>Pets</th>\n",
       "      <th>Happy</th>\n",
       "      <th>...</th>\n",
       "      <th>Exercise</th>\n",
       "      <th>Stat Pre</th>\n",
       "      <th>Stat Post</th>\n",
       "      <th>Phone Type</th>\n",
       "      <th>Sleep</th>\n",
       "      <th>Social Media</th>\n",
       "      <th>Impact of SocNetworking</th>\n",
       "      <th>Political</th>\n",
       "      <th>Animal</th>\n",
       "      <th>Superhero</th>\n",
       "    </tr>\n",
       "  </thead>\n",
       "  <tbody>\n",
       "    <tr>\n",
       "      <th>0</th>\n",
       "      <td>1</td>\n",
       "      <td>male</td>\n",
       "      <td>senior</td>\n",
       "      <td>67.75</td>\n",
       "      <td>7.0</td>\n",
       "      <td>12.0</td>\n",
       "      <td>12.0</td>\n",
       "      <td>youngest</td>\n",
       "      <td>5.0</td>\n",
       "      <td>0.80</td>\n",
       "      <td>...</td>\n",
       "      <td>360</td>\n",
       "      <td>3.0</td>\n",
       "      <td>NaN</td>\n",
       "      <td>iPhone</td>\n",
       "      <td>7.0</td>\n",
       "      <td>180.0</td>\n",
       "      <td>worse</td>\n",
       "      <td>Democrat</td>\n",
       "      <td>Dog person</td>\n",
       "      <td>Batman</td>\n",
       "    </tr>\n",
       "    <tr>\n",
       "      <th>1</th>\n",
       "      <td>2</td>\n",
       "      <td>male</td>\n",
       "      <td>freshman</td>\n",
       "      <td>71.00</td>\n",
       "      <td>7.5</td>\n",
       "      <td>1.5</td>\n",
       "      <td>5.0</td>\n",
       "      <td>middle</td>\n",
       "      <td>4.0</td>\n",
       "      <td>0.75</td>\n",
       "      <td>...</td>\n",
       "      <td>200</td>\n",
       "      <td>9.0</td>\n",
       "      <td>NaN</td>\n",
       "      <td>Android smartphone</td>\n",
       "      <td>7.0</td>\n",
       "      <td>20.0</td>\n",
       "      <td>better</td>\n",
       "      <td>Democrat</td>\n",
       "      <td>Dog person</td>\n",
       "      <td>Batman</td>\n",
       "    </tr>\n",
       "    <tr>\n",
       "      <th>2</th>\n",
       "      <td>3</td>\n",
       "      <td>female</td>\n",
       "      <td>freshman</td>\n",
       "      <td>64.00</td>\n",
       "      <td>6.0</td>\n",
       "      <td>25.0</td>\n",
       "      <td>15.0</td>\n",
       "      <td>oldest</td>\n",
       "      <td>8.0</td>\n",
       "      <td>0.90</td>\n",
       "      <td>...</td>\n",
       "      <td>30</td>\n",
       "      <td>7.0</td>\n",
       "      <td>5.0</td>\n",
       "      <td>Android smartphone</td>\n",
       "      <td>8.0</td>\n",
       "      <td>60.0</td>\n",
       "      <td>better</td>\n",
       "      <td>Republican</td>\n",
       "      <td>Dog person</td>\n",
       "      <td>Batman</td>\n",
       "    </tr>\n",
       "    <tr>\n",
       "      <th>3</th>\n",
       "      <td>4</td>\n",
       "      <td>female</td>\n",
       "      <td>freshman</td>\n",
       "      <td>63.00</td>\n",
       "      <td>6.5</td>\n",
       "      <td>30.0</td>\n",
       "      <td>30.0</td>\n",
       "      <td>middle</td>\n",
       "      <td>12.0</td>\n",
       "      <td>0.98</td>\n",
       "      <td>...</td>\n",
       "      <td>180</td>\n",
       "      <td>6.0</td>\n",
       "      <td>7.0</td>\n",
       "      <td>iPhone</td>\n",
       "      <td>6.0</td>\n",
       "      <td>60.0</td>\n",
       "      <td>better</td>\n",
       "      <td>Republican</td>\n",
       "      <td>Both</td>\n",
       "      <td>Superman</td>\n",
       "    </tr>\n",
       "    <tr>\n",
       "      <th>4</th>\n",
       "      <td>5</td>\n",
       "      <td>male</td>\n",
       "      <td>senior</td>\n",
       "      <td>69.00</td>\n",
       "      <td>6.5</td>\n",
       "      <td>23.0</td>\n",
       "      <td>8.0</td>\n",
       "      <td>oldest</td>\n",
       "      <td>4.0</td>\n",
       "      <td>0.75</td>\n",
       "      <td>...</td>\n",
       "      <td>180</td>\n",
       "      <td>4.0</td>\n",
       "      <td>7.0</td>\n",
       "      <td>iPhone</td>\n",
       "      <td>5.5</td>\n",
       "      <td>60.0</td>\n",
       "      <td>worse</td>\n",
       "      <td>Independent</td>\n",
       "      <td>Dog person</td>\n",
       "      <td>Superman</td>\n",
       "    </tr>\n",
       "    <tr>\n",
       "      <th>...</th>\n",
       "      <td>...</td>\n",
       "      <td>...</td>\n",
       "      <td>...</td>\n",
       "      <td>...</td>\n",
       "      <td>...</td>\n",
       "      <td>...</td>\n",
       "      <td>...</td>\n",
       "      <td>...</td>\n",
       "      <td>...</td>\n",
       "      <td>...</td>\n",
       "      <td>...</td>\n",
       "      <td>...</td>\n",
       "      <td>...</td>\n",
       "      <td>...</td>\n",
       "      <td>...</td>\n",
       "      <td>...</td>\n",
       "      <td>...</td>\n",
       "      <td>...</td>\n",
       "      <td>...</td>\n",
       "      <td>...</td>\n",
       "      <td>...</td>\n",
       "    </tr>\n",
       "    <tr>\n",
       "      <th>71</th>\n",
       "      <td>72</td>\n",
       "      <td>female</td>\n",
       "      <td>freshman</td>\n",
       "      <td>65.00</td>\n",
       "      <td>6.5</td>\n",
       "      <td>40.0</td>\n",
       "      <td>50.0</td>\n",
       "      <td>youngest</td>\n",
       "      <td>7.0</td>\n",
       "      <td>0.95</td>\n",
       "      <td>...</td>\n",
       "      <td>30</td>\n",
       "      <td>4.0</td>\n",
       "      <td>8.0</td>\n",
       "      <td>iPhone</td>\n",
       "      <td>8.0</td>\n",
       "      <td>60.0</td>\n",
       "      <td>no impact</td>\n",
       "      <td>Independent</td>\n",
       "      <td>Dog person</td>\n",
       "      <td>Batman</td>\n",
       "    </tr>\n",
       "    <tr>\n",
       "      <th>72</th>\n",
       "      <td>73</td>\n",
       "      <td>female</td>\n",
       "      <td>freshman</td>\n",
       "      <td>62.00</td>\n",
       "      <td>7.0</td>\n",
       "      <td>60.0</td>\n",
       "      <td>8.0</td>\n",
       "      <td>only child</td>\n",
       "      <td>3.0</td>\n",
       "      <td>0.80</td>\n",
       "      <td>...</td>\n",
       "      <td>0</td>\n",
       "      <td>3.0</td>\n",
       "      <td>6.0</td>\n",
       "      <td>iPhone</td>\n",
       "      <td>5.0</td>\n",
       "      <td>100.0</td>\n",
       "      <td>no impact</td>\n",
       "      <td>Republican</td>\n",
       "      <td>Both</td>\n",
       "      <td>Captain America</td>\n",
       "    </tr>\n",
       "    <tr>\n",
       "      <th>73</th>\n",
       "      <td>74</td>\n",
       "      <td>female</td>\n",
       "      <td>freshman</td>\n",
       "      <td>65.00</td>\n",
       "      <td>6.0</td>\n",
       "      <td>2.5</td>\n",
       "      <td>30.0</td>\n",
       "      <td>youngest</td>\n",
       "      <td>4.0</td>\n",
       "      <td>0.65</td>\n",
       "      <td>...</td>\n",
       "      <td>360</td>\n",
       "      <td>6.0</td>\n",
       "      <td>8.0</td>\n",
       "      <td>Android smartphone</td>\n",
       "      <td>5.0</td>\n",
       "      <td>60.0</td>\n",
       "      <td>worse</td>\n",
       "      <td>Independent</td>\n",
       "      <td>Both</td>\n",
       "      <td>Superman</td>\n",
       "    </tr>\n",
       "    <tr>\n",
       "      <th>74</th>\n",
       "      <td>75</td>\n",
       "      <td>female</td>\n",
       "      <td>sophomore</td>\n",
       "      <td>65.00</td>\n",
       "      <td>6.5</td>\n",
       "      <td>20.0</td>\n",
       "      <td>15.0</td>\n",
       "      <td>middle</td>\n",
       "      <td>4.0</td>\n",
       "      <td>0.90</td>\n",
       "      <td>...</td>\n",
       "      <td>120</td>\n",
       "      <td>6.0</td>\n",
       "      <td>NaN</td>\n",
       "      <td>iPhone</td>\n",
       "      <td>6.5</td>\n",
       "      <td>120.0</td>\n",
       "      <td>better</td>\n",
       "      <td>Democrat</td>\n",
       "      <td>Dog person</td>\n",
       "      <td>Superman</td>\n",
       "    </tr>\n",
       "    <tr>\n",
       "      <th>75</th>\n",
       "      <td>76</td>\n",
       "      <td>female</td>\n",
       "      <td>freshman</td>\n",
       "      <td>65.00</td>\n",
       "      <td>7.5</td>\n",
       "      <td>20.0</td>\n",
       "      <td>6.0</td>\n",
       "      <td>middle</td>\n",
       "      <td>12.0</td>\n",
       "      <td>0.85</td>\n",
       "      <td>...</td>\n",
       "      <td>180</td>\n",
       "      <td>9.0</td>\n",
       "      <td>5.0</td>\n",
       "      <td>iPhone</td>\n",
       "      <td>7.0</td>\n",
       "      <td>15.0</td>\n",
       "      <td>better</td>\n",
       "      <td>Republican</td>\n",
       "      <td>Dog person</td>\n",
       "      <td>Batman</td>\n",
       "    </tr>\n",
       "  </tbody>\n",
       "</table>\n",
       "<p>76 rows × 23 columns</p>\n",
       "</div>"
      ],
      "text/plain": [
       "    ID  Gender Classification  Height  Shoe Size  Phone Time  # of Shoes  \\\n",
       "0    1    male         senior   67.75        7.0        12.0        12.0   \n",
       "1    2    male       freshman   71.00        7.5         1.5         5.0   \n",
       "2    3  female       freshman   64.00        6.0        25.0        15.0   \n",
       "3    4  female       freshman   63.00        6.5        30.0        30.0   \n",
       "4    5    male         senior   69.00        6.5        23.0         8.0   \n",
       "..  ..     ...            ...     ...        ...         ...         ...   \n",
       "71  72  female       freshman   65.00        6.5        40.0        50.0   \n",
       "72  73  female       freshman   62.00        7.0        60.0         8.0   \n",
       "73  74  female       freshman   65.00        6.0         2.5        30.0   \n",
       "74  75  female      sophomore   65.00        6.5        20.0        15.0   \n",
       "75  76  female       freshman   65.00        7.5        20.0         6.0   \n",
       "\n",
       "   Birth order  Pets  Happy  ...  Exercise Stat Pre  Stat Post  \\\n",
       "0     youngest   5.0   0.80  ...       360      3.0        NaN   \n",
       "1       middle   4.0   0.75  ...       200      9.0        NaN   \n",
       "2       oldest   8.0   0.90  ...        30      7.0        5.0   \n",
       "3       middle  12.0   0.98  ...       180      6.0        7.0   \n",
       "4       oldest   4.0   0.75  ...       180      4.0        7.0   \n",
       "..         ...   ...    ...  ...       ...      ...        ...   \n",
       "71    youngest   7.0   0.95  ...        30      4.0        8.0   \n",
       "72  only child   3.0   0.80  ...         0      3.0        6.0   \n",
       "73    youngest   4.0   0.65  ...       360      6.0        8.0   \n",
       "74      middle   4.0   0.90  ...       120      6.0        NaN   \n",
       "75      middle  12.0   0.85  ...       180      9.0        5.0   \n",
       "\n",
       "            Phone Type  Sleep  Social Media Impact of SocNetworking  \\\n",
       "0               iPhone    7.0         180.0                   worse   \n",
       "1   Android smartphone    7.0          20.0                  better   \n",
       "2   Android smartphone    8.0          60.0                  better   \n",
       "3               iPhone    6.0          60.0                  better   \n",
       "4               iPhone    5.5          60.0                   worse   \n",
       "..                 ...    ...           ...                     ...   \n",
       "71              iPhone    8.0          60.0               no impact   \n",
       "72              iPhone    5.0         100.0               no impact   \n",
       "73  Android smartphone    5.0          60.0                   worse   \n",
       "74              iPhone    6.5         120.0                  better   \n",
       "75              iPhone    7.0          15.0                  better   \n",
       "\n",
       "      Political      Animal        Superhero  \n",
       "0      Democrat  Dog person           Batman  \n",
       "1      Democrat  Dog person           Batman  \n",
       "2    Republican  Dog person           Batman  \n",
       "3    Republican        Both         Superman  \n",
       "4   Independent  Dog person         Superman  \n",
       "..          ...         ...              ...  \n",
       "71  Independent  Dog person           Batman  \n",
       "72   Republican        Both  Captain America  \n",
       "73  Independent        Both         Superman  \n",
       "74     Democrat  Dog person         Superman  \n",
       "75   Republican  Dog person           Batman  \n",
       "\n",
       "[76 rows x 23 columns]"
      ]
     },
     "execution_count": 77,
     "metadata": {},
     "output_type": "execute_result"
    }
   ],
   "source": [
    "df = pd.read_csv(\"C:/Users/Lenovo/Downloads/students.csv\")\n",
    "df"
   ]
  },
  {
   "cell_type": "code",
   "execution_count": 78,
   "metadata": {},
   "outputs": [
    {
     "data": {
      "text/plain": [
       "np.float64(6.8618421052631575)"
      ]
     },
     "execution_count": 78,
     "metadata": {},
     "output_type": "execute_result"
    }
   ],
   "source": [
    "df[\"Sleep\"].mean()"
   ]
  },
  {
   "cell_type": "code",
   "execution_count": 79,
   "metadata": {},
   "outputs": [
    {
     "data": {
      "text/plain": [
       "np.float64(1.5310098719701892)"
      ]
     },
     "execution_count": 79,
     "metadata": {},
     "output_type": "execute_result"
    }
   ],
   "source": [
    "df[\"Sleep\"].std()"
   ]
  },
  {
   "cell_type": "code",
   "execution_count": 82,
   "metadata": {},
   "outputs": [],
   "source": [
    "#scipy kütüphanesinden\n",
    "\n",
    "onesample = stats.ttest_1samp(df[\"Sleep\"], 7.2)"
   ]
  },
  {
   "cell_type": "code",
   "execution_count": 81,
   "metadata": {},
   "outputs": [
    {
     "data": {
      "text/plain": [
       "np.float64(-1.92552134000487)"
      ]
     },
     "execution_count": 81,
     "metadata": {},
     "output_type": "execute_result"
    }
   ],
   "source": [
    "#t score\n",
    "\n",
    "onesample.statistic"
   ]
  },
  {
   "cell_type": "code",
   "execution_count": 83,
   "metadata": {},
   "outputs": [
    {
     "data": {
      "text/plain": [
       "np.float64(0.05795525591903326)"
      ]
     },
     "execution_count": 83,
     "metadata": {},
     "output_type": "execute_result"
    }
   ],
   "source": [
    "onesample.pvalue"
   ]
  },
  {
   "cell_type": "code",
   "execution_count": 84,
   "metadata": {},
   "outputs": [
    {
     "name": "stdout",
     "output_type": "stream",
     "text": [
      "at 0.05 level of significance, we fail to reject the null hypothesis\n"
     ]
    }
   ],
   "source": [
    "alpha = 0.05\n",
    "\n",
    "if p_value < alpha:\n",
    "    print(\"at {} level of significance, we can reject the null hypothesis in favor of alternative hypothesis.\".format(alpha))\n",
    "else:\n",
    "    print(\"at {} level of significance, we fail to reject the null hypothesis\".format(alpha))"
   ]
  },
  {
   "cell_type": "markdown",
   "metadata": {},
   "source": []
  },
  {
   "cell_type": "markdown",
   "metadata": {},
   "source": [
    "# 1 Independent Samples T Test"
   ]
  },
  {
   "cell_type": "markdown",
   "metadata": {},
   "source": [
    "1.1 Example\n",
    "\n",
    "içme suyundaki arsenic konsantrasyonu sağlık açısından tehlikelidir. \n",
    "Phoenix ve arizona daki 10 bölge için bu arsenic değeri ppb raporlarda verilmiştir.\n",
    "Bu rapor csv dosyasında verilmiştir.\n",
    "ort arsenic konsantrasonu aısından Phoenix ve arizona arasında istatiksel olarak anlamlı bir fark var mııdr?\n",
    "h1: ortlamalar ar fark nedir?"
   ]
  },
  {
   "cell_type": "code",
   "execution_count": 86,
   "metadata": {},
   "outputs": [
    {
     "data": {
      "text/html": [
       "<div>\n",
       "<style scoped>\n",
       "    .dataframe tbody tr th:only-of-type {\n",
       "        vertical-align: middle;\n",
       "    }\n",
       "\n",
       "    .dataframe tbody tr th {\n",
       "        vertical-align: top;\n",
       "    }\n",
       "\n",
       "    .dataframe thead th {\n",
       "        text-align: right;\n",
       "    }\n",
       "</style>\n",
       "<table border=\"1\" class=\"dataframe\">\n",
       "  <thead>\n",
       "    <tr style=\"text-align: right;\">\n",
       "      <th></th>\n",
       "      <th>Metro Phoenix</th>\n",
       "      <th>x1</th>\n",
       "      <th>Rural Arizona</th>\n",
       "      <th>x2</th>\n",
       "    </tr>\n",
       "  </thead>\n",
       "  <tbody>\n",
       "    <tr>\n",
       "      <th>0</th>\n",
       "      <td>Phoenix</td>\n",
       "      <td>3</td>\n",
       "      <td>Rimrock</td>\n",
       "      <td>48</td>\n",
       "    </tr>\n",
       "    <tr>\n",
       "      <th>1</th>\n",
       "      <td>Chandler</td>\n",
       "      <td>7</td>\n",
       "      <td>Goodyear</td>\n",
       "      <td>44</td>\n",
       "    </tr>\n",
       "    <tr>\n",
       "      <th>2</th>\n",
       "      <td>Gilbert</td>\n",
       "      <td>25</td>\n",
       "      <td>New River</td>\n",
       "      <td>40</td>\n",
       "    </tr>\n",
       "    <tr>\n",
       "      <th>3</th>\n",
       "      <td>Glendale</td>\n",
       "      <td>10</td>\n",
       "      <td>Apache Junction</td>\n",
       "      <td>38</td>\n",
       "    </tr>\n",
       "    <tr>\n",
       "      <th>4</th>\n",
       "      <td>Mesa</td>\n",
       "      <td>15</td>\n",
       "      <td>Buckeye</td>\n",
       "      <td>33</td>\n",
       "    </tr>\n",
       "    <tr>\n",
       "      <th>5</th>\n",
       "      <td>Paradise Valley</td>\n",
       "      <td>6</td>\n",
       "      <td>Nogales</td>\n",
       "      <td>21</td>\n",
       "    </tr>\n",
       "    <tr>\n",
       "      <th>6</th>\n",
       "      <td>Peoria</td>\n",
       "      <td>12</td>\n",
       "      <td>Black Canyon City</td>\n",
       "      <td>20</td>\n",
       "    </tr>\n",
       "    <tr>\n",
       "      <th>7</th>\n",
       "      <td>Scottsdale</td>\n",
       "      <td>25</td>\n",
       "      <td>Sedona</td>\n",
       "      <td>12</td>\n",
       "    </tr>\n",
       "    <tr>\n",
       "      <th>8</th>\n",
       "      <td>Tempe</td>\n",
       "      <td>15</td>\n",
       "      <td>Payson</td>\n",
       "      <td>1</td>\n",
       "    </tr>\n",
       "    <tr>\n",
       "      <th>9</th>\n",
       "      <td>Sun City</td>\n",
       "      <td>7</td>\n",
       "      <td>Casa Grande</td>\n",
       "      <td>18</td>\n",
       "    </tr>\n",
       "  </tbody>\n",
       "</table>\n",
       "</div>"
      ],
      "text/plain": [
       "     Metro Phoenix  x1      Rural Arizona  x2\n",
       "0          Phoenix   3            Rimrock  48\n",
       "1         Chandler   7           Goodyear  44\n",
       "2          Gilbert  25          New River  40\n",
       "3         Glendale  10    Apache Junction  38\n",
       "4             Mesa  15            Buckeye  33\n",
       "5  Paradise Valley   6            Nogales  21\n",
       "6           Peoria  12  Black Canyon City  20\n",
       "7       Scottsdale  25             Sedona  12\n",
       "8            Tempe  15             Payson   1\n",
       "9         Sun City   7        Casa Grande  18"
      ]
     },
     "execution_count": 86,
     "metadata": {},
     "output_type": "execute_result"
    }
   ],
   "source": [
    "df = pd.read_csv(\"C:/Users/Lenovo/Downloads/arsenic.csv\")\n",
    "df"
   ]
  },
  {
   "cell_type": "code",
   "execution_count": 88,
   "metadata": {},
   "outputs": [
    {
     "data": {
      "text/plain": [
       "np.float64(12.5)"
      ]
     },
     "execution_count": 88,
     "metadata": {},
     "output_type": "execute_result"
    }
   ],
   "source": [
    "#phoneix ort arsenic değeri\n",
    "\n",
    "df[\"x1\"].mean()"
   ]
  },
  {
   "cell_type": "code",
   "execution_count": 89,
   "metadata": {},
   "outputs": [
    {
     "data": {
      "text/plain": [
       "np.float64(27.5)"
      ]
     },
     "execution_count": 89,
     "metadata": {},
     "output_type": "execute_result"
    }
   ],
   "source": [
    "df[\"x2\"].mean()"
   ]
  },
  {
   "cell_type": "code",
   "execution_count": 90,
   "metadata": {},
   "outputs": [
    {
     "data": {
      "text/plain": [
       "TtestResult(statistic=np.float64(-2.7669395785560553), pvalue=np.float64(0.012704425122128032), df=np.float64(18.0))"
      ]
     },
     "execution_count": 90,
     "metadata": {},
     "output_type": "execute_result"
    }
   ],
   "source": [
    "#12.5 ve 27.5 ar fark anlamlı mı?\n",
    "\n",
    "#a, b arsenic değerleridir\n",
    "\n",
    "indtest = stats.ttest_ind(df[\"x1\"], df[\"x2\"])\n",
    "indtest"
   ]
  },
  {
   "cell_type": "code",
   "execution_count": 91,
   "metadata": {},
   "outputs": [
    {
     "data": {
      "text/plain": [
       "np.float64(-2.7669395785560553)"
      ]
     },
     "execution_count": 91,
     "metadata": {},
     "output_type": "execute_result"
    }
   ],
   "source": [
    "indtest.statistic"
   ]
  },
  {
   "cell_type": "code",
   "execution_count": 92,
   "metadata": {},
   "outputs": [
    {
     "data": {
      "text/plain": [
       "np.float64(0.012704425122128032)"
      ]
     },
     "execution_count": 92,
     "metadata": {},
     "output_type": "execute_result"
    }
   ],
   "source": [
    "indtest.pvalue"
   ]
  },
  {
   "cell_type": "code",
   "execution_count": 93,
   "metadata": {},
   "outputs": [
    {
     "name": "stdout",
     "output_type": "stream",
     "text": [
      "reject the null\n"
     ]
    }
   ],
   "source": [
    "#alpha p value karşılaştırma\n",
    "\n",
    "alpha = 0.05\n",
    "\n",
    "if indtest.pvalue < alpha:\n",
    "    print(\"reject the null\")\n",
    "else:\n",
    "    print(\"fail to reject\")"
   ]
  },
  {
   "cell_type": "markdown",
   "metadata": {},
   "source": [
    "#ortalamalar arasındaki fark istatiksel olarak anlamlıdır"
   ]
  },
  {
   "cell_type": "markdown",
   "metadata": {},
   "source": []
  },
  {
   "cell_type": "markdown",
   "metadata": {},
   "source": [
    "# 2- Dependent T Test"
   ]
  },
  {
   "cell_type": "markdown",
   "metadata": {},
   "source": [
    "2.1 Example \n",
    "\n",
    "depresyonlu bireylerin üzerinde bir antidepresan olarak Prozac etkisini inceliyoruz. \n",
    "likert tipi ölçekle 0-20 arası değerlendirme yapılmış.\n",
    "bu ölçekteki düşük değerlerin etkisi az, yüksek değerlerin etkisi fazla demektir.\n",
    "tablodaki moodpre sütunu tedavi öncesi ölçüm olup, moodpost ise tedavs sonrası ölçüm değeridir.\n",
    "9 kişi üzerinde test yapılmıştır.\n",
    "+  +değere sahip olan differences satırlarında iyileşme olmuş demektir.\n",
    "Prozac antidepresan etkisine sahip midir?"
   ]
  },
  {
   "cell_type": "code",
   "execution_count": 94,
   "metadata": {},
   "outputs": [
    {
     "data": {
      "text/html": [
       "<div>\n",
       "<style scoped>\n",
       "    .dataframe tbody tr th:only-of-type {\n",
       "        vertical-align: middle;\n",
       "    }\n",
       "\n",
       "    .dataframe tbody tr th {\n",
       "        vertical-align: top;\n",
       "    }\n",
       "\n",
       "    .dataframe thead th {\n",
       "        text-align: right;\n",
       "    }\n",
       "</style>\n",
       "<table border=\"1\" class=\"dataframe\">\n",
       "  <thead>\n",
       "    <tr style=\"text-align: right;\">\n",
       "      <th></th>\n",
       "      <th>moodpre</th>\n",
       "      <th>moodpost</th>\n",
       "      <th>difference</th>\n",
       "    </tr>\n",
       "  </thead>\n",
       "  <tbody>\n",
       "    <tr>\n",
       "      <th>0</th>\n",
       "      <td>3</td>\n",
       "      <td>5</td>\n",
       "      <td>2</td>\n",
       "    </tr>\n",
       "    <tr>\n",
       "      <th>1</th>\n",
       "      <td>0</td>\n",
       "      <td>1</td>\n",
       "      <td>1</td>\n",
       "    </tr>\n",
       "    <tr>\n",
       "      <th>2</th>\n",
       "      <td>6</td>\n",
       "      <td>5</td>\n",
       "      <td>-1</td>\n",
       "    </tr>\n",
       "    <tr>\n",
       "      <th>3</th>\n",
       "      <td>7</td>\n",
       "      <td>7</td>\n",
       "      <td>0</td>\n",
       "    </tr>\n",
       "    <tr>\n",
       "      <th>4</th>\n",
       "      <td>4</td>\n",
       "      <td>10</td>\n",
       "      <td>6</td>\n",
       "    </tr>\n",
       "    <tr>\n",
       "      <th>5</th>\n",
       "      <td>3</td>\n",
       "      <td>9</td>\n",
       "      <td>6</td>\n",
       "    </tr>\n",
       "    <tr>\n",
       "      <th>6</th>\n",
       "      <td>2</td>\n",
       "      <td>7</td>\n",
       "      <td>5</td>\n",
       "    </tr>\n",
       "    <tr>\n",
       "      <th>7</th>\n",
       "      <td>1</td>\n",
       "      <td>11</td>\n",
       "      <td>10</td>\n",
       "    </tr>\n",
       "    <tr>\n",
       "      <th>8</th>\n",
       "      <td>4</td>\n",
       "      <td>8</td>\n",
       "      <td>4</td>\n",
       "    </tr>\n",
       "  </tbody>\n",
       "</table>\n",
       "</div>"
      ],
      "text/plain": [
       "   moodpre  moodpost  difference\n",
       "0        3         5           2\n",
       "1        0         1           1\n",
       "2        6         5          -1\n",
       "3        7         7           0\n",
       "4        4        10           6\n",
       "5        3         9           6\n",
       "6        2         7           5\n",
       "7        1        11          10\n",
       "8        4         8           4"
      ]
     },
     "execution_count": 94,
     "metadata": {},
     "output_type": "execute_result"
    }
   ],
   "source": [
    "df = pd.read_csv(\"C:/Users/Lenovo/Downloads/prozac.csv\")\n",
    "df"
   ]
  },
  {
   "cell_type": "code",
   "execution_count": 96,
   "metadata": {},
   "outputs": [
    {
     "data": {
      "text/plain": [
       "TtestResult(statistic=np.float64(-3.1428571428571423), pvalue=np.float64(0.013745824394788492), df=np.int64(8))"
      ]
     },
     "execution_count": 96,
     "metadata": {},
     "output_type": "execute_result"
    }
   ],
   "source": [
    "#t score ve p value\n",
    "\n",
    "stats.ttest_rel(df[\"moodpre\"], df[\"moodpost\"])"
   ]
  },
  {
   "cell_type": "code",
   "execution_count": 97,
   "metadata": {},
   "outputs": [
    {
     "data": {
      "text/plain": [
       "TtestResult(statistic=np.float64(3.1428571428571423), pvalue=np.float64(0.006872912197394246), df=np.int64(8))"
      ]
     },
     "execution_count": 97,
     "metadata": {},
     "output_type": "execute_result"
    }
   ],
   "source": [
    "# H0: d_bar=0\n",
    "# H1: d_bar>0 durumunda alternative kısmı greater olarak yazılır \n",
    "\n",
    "pairedtest = stats.ttest_rel(df.moodpost, df.moodpre, alternative=\"greater\")\n",
    "pairedtest"
   ]
  },
  {
   "cell_type": "code",
   "execution_count": 98,
   "metadata": {},
   "outputs": [
    {
     "data": {
      "text/plain": [
       "TtestResult(statistic=np.float64(-3.1428571428571423), pvalue=np.float64(0.006872912197394246), df=np.int64(8))"
      ]
     },
     "execution_count": 98,
     "metadata": {},
     "output_type": "execute_result"
    }
   ],
   "source": [
    "# H0: d_bar=0\n",
    "# H1: d_bar<0 durumunda alternative kısmı less olarak yazılır \n",
    "#moodpre moodpost yer değişti\n",
    "#test istatistiği yorum farkından dolayı farklı çıktı\n",
    "\n",
    "pairedtest = stats.ttest_rel(df.moodpre, df.moodpost, alternative=\"less\")\n",
    "pairedtest"
   ]
  },
  {
   "cell_type": "code",
   "execution_count": 100,
   "metadata": {},
   "outputs": [
    {
     "name": "stdout",
     "output_type": "stream",
     "text": [
      "reject the null\n"
     ]
    }
   ],
   "source": [
    "alpha = 0.05\n",
    "\n",
    "if pairedtest.pvalue < alpha:\n",
    "    print(\"reject the null\")\n",
    "else:\n",
    "    print(\"fail to reject\")"
   ]
  },
  {
   "cell_type": "markdown",
   "metadata": {},
   "source": [
    "#reject olduğunda göre aralarında fark vardır, etkili bir ilaç"
   ]
  },
  {
   "cell_type": "markdown",
   "metadata": {},
   "source": []
  },
  {
   "cell_type": "markdown",
   "metadata": {},
   "source": [
    "# Chi Square"
   ]
  },
  {
   "cell_type": "markdown",
   "metadata": {},
   "source": [
    "1- goodness of fit test (uygunluk testi)                   \n",
    "2- test of homogeneity (homojenlik testi)                      \n",
    "3- test of ındependence (bağımsızlık testi)"
   ]
  },
  {
   "cell_type": "markdown",
   "metadata": {},
   "source": [
    "+ test of ındependence test"
   ]
  },
  {
   "cell_type": "code",
   "execution_count": 101,
   "metadata": {},
   "outputs": [],
   "source": [
    "# Gerekli kütüphaneleri yükleyelim\n",
    "import pandas as pd\n",
    "import numpy as np\n",
    "import scipy.stats as stats"
   ]
  },
  {
   "cell_type": "code",
   "execution_count": 102,
   "metadata": {},
   "outputs": [
    {
     "data": {
      "text/html": [
       "<div>\n",
       "<style scoped>\n",
       "    .dataframe tbody tr th:only-of-type {\n",
       "        vertical-align: middle;\n",
       "    }\n",
       "\n",
       "    .dataframe tbody tr th {\n",
       "        vertical-align: top;\n",
       "    }\n",
       "\n",
       "    .dataframe thead th {\n",
       "        text-align: right;\n",
       "    }\n",
       "</style>\n",
       "<table border=\"1\" class=\"dataframe\">\n",
       "  <thead>\n",
       "    <tr style=\"text-align: right;\">\n",
       "      <th></th>\n",
       "      <th>Cinsiyet</th>\n",
       "      <th>Kurs</th>\n",
       "    </tr>\n",
       "  </thead>\n",
       "  <tbody>\n",
       "    <tr>\n",
       "      <th>0</th>\n",
       "      <td>Erkek</td>\n",
       "      <td>Kurs1</td>\n",
       "    </tr>\n",
       "    <tr>\n",
       "      <th>1</th>\n",
       "      <td>Erkek</td>\n",
       "      <td>Kurs1</td>\n",
       "    </tr>\n",
       "    <tr>\n",
       "      <th>2</th>\n",
       "      <td>Erkek</td>\n",
       "      <td>Kurs1</td>\n",
       "    </tr>\n",
       "    <tr>\n",
       "      <th>3</th>\n",
       "      <td>Erkek</td>\n",
       "      <td>Kurs1</td>\n",
       "    </tr>\n",
       "    <tr>\n",
       "      <th>4</th>\n",
       "      <td>Erkek</td>\n",
       "      <td>Kurs1</td>\n",
       "    </tr>\n",
       "    <tr>\n",
       "      <th>...</th>\n",
       "      <td>...</td>\n",
       "      <td>...</td>\n",
       "    </tr>\n",
       "    <tr>\n",
       "      <th>120</th>\n",
       "      <td>Kadın</td>\n",
       "      <td>Kurs3</td>\n",
       "    </tr>\n",
       "    <tr>\n",
       "      <th>121</th>\n",
       "      <td>Kadın</td>\n",
       "      <td>Kurs3</td>\n",
       "    </tr>\n",
       "    <tr>\n",
       "      <th>122</th>\n",
       "      <td>Kadın</td>\n",
       "      <td>Kurs3</td>\n",
       "    </tr>\n",
       "    <tr>\n",
       "      <th>123</th>\n",
       "      <td>Kadın</td>\n",
       "      <td>Kurs3</td>\n",
       "    </tr>\n",
       "    <tr>\n",
       "      <th>124</th>\n",
       "      <td>Kadın</td>\n",
       "      <td>Kurs3</td>\n",
       "    </tr>\n",
       "  </tbody>\n",
       "</table>\n",
       "<p>125 rows × 2 columns</p>\n",
       "</div>"
      ],
      "text/plain": [
       "    Cinsiyet   Kurs\n",
       "0      Erkek  Kurs1\n",
       "1      Erkek  Kurs1\n",
       "2      Erkek  Kurs1\n",
       "3      Erkek  Kurs1\n",
       "4      Erkek  Kurs1\n",
       "..       ...    ...\n",
       "120    Kadın  Kurs3\n",
       "121    Kadın  Kurs3\n",
       "122    Kadın  Kurs3\n",
       "123    Kadın  Kurs3\n",
       "124    Kadın  Kurs3\n",
       "\n",
       "[125 rows x 2 columns]"
      ]
     },
     "execution_count": 102,
     "metadata": {},
     "output_type": "execute_result"
    }
   ],
   "source": [
    "# Örnek verilerimizi oluşturalım \n",
    "# 'Cinsiyet' değişkeni için, her bir cinsiyeti temsil eden 'Erkek' ve 'Kadın' string değerlerini //\n",
    "# // belirli sayıda tekrar ettirdik. Bu tekrar etme işlemi Python'da * operatörü ile gerçekleştirilir. // \n",
    "# //Örneğin, ['Erkek'] * 10 ifadesi 'Erkek' değerini 10 kez tekrarlayan bir liste oluşturur.\n",
    "\n",
    "# 'Kurs' değişkeni için, her bir kursu temsil eden 'Kurs1', 'Kurs2' ve 'Kurs3' string değerlerini belirli sayıda tekrar ettirdik. Bu tekrarlamalar, her bir kursa kaydolan öğrenci sayısını temsil eder.\n",
    "\n",
    "\n",
    "data = {'Cinsiyet': ['Erkek'] * 10 + ['Erkek'] * 20 + ['Erkek'] * 30 + ['Kadın'] * 20 + ['Kadın'] * 15 + ['Kadın'] * 30,\n",
    "        'Kurs': ['Kurs1'] * 10 + ['Kurs2'] * 20 + ['Kurs3'] * 30 + ['Kurs1'] * 20 + ['Kurs2'] * 15 + ['Kurs3'] * 30}\n",
    "\n",
    "df = pd.DataFrame(data)\n",
    "df"
   ]
  },
  {
   "cell_type": "code",
   "execution_count": 104,
   "metadata": {},
   "outputs": [
    {
     "name": "stdout",
     "output_type": "stream",
     "text": [
      "Kontenjan Tablosu:\n",
      "Kurs      Kurs1  Kurs2  Kurs3\n",
      "Cinsiyet                     \n",
      "Erkek        10     20     30\n",
      "Kadın        20     15     30\n"
     ]
    }
   ],
   "source": [
    "# Kontenjan tablosunu oluşturalım\n",
    "contingency_table = pd.crosstab(df['Cinsiyet'], df['Kurs'])\n",
    "\n",
    "print(\"Kontenjan Tablosu:\")\n",
    "print(contingency_table)\n",
    "\n"
   ]
  },
  {
   "cell_type": "code",
   "execution_count": 105,
   "metadata": {},
   "outputs": [],
   "source": [
    "# Bu tabloyu Chi-square testine sokalım\n",
    "chi2, p_value, dof, expected = stats.chi2_contingency(contingency_table.values)"
   ]
  },
  {
   "cell_type": "code",
   "execution_count": 106,
   "metadata": {},
   "outputs": [
    {
     "name": "stdout",
     "output_type": "stream",
     "text": [
      "\n",
      "Chi-Square Statistic : 3.8537851037851034\n",
      "P-Value : 0.14559994049722333\n",
      "Degrees of Freedom : 2\n",
      "Expected Table: \n",
      " [[14.4 16.8 28.8]\n",
      " [15.6 18.2 31.2]]\n"
     ]
    }
   ],
   "source": [
    "\n",
    "\n",
    "# Sonuçları yazdıralım\n",
    "print(f\"\\nChi-Square Statistic : {chi2}\")\n",
    "print(f\"P-Value : {p_value}\")\n",
    "print(f\"Degrees of Freedom : {dof}\")\n",
    "print(f\"Expected Table: \\n {expected}\")\n",
    "\n"
   ]
  },
  {
   "cell_type": "code",
   "execution_count": 107,
   "metadata": {},
   "outputs": [
    {
     "name": "stdout",
     "output_type": "stream",
     "text": [
      "\n",
      "Null hipotezi kabul ediyoruz. Bu, kursa katılımın ve cinsiyetin bağımsız olduğunu gösterir.\n"
     ]
    }
   ],
   "source": [
    "# p-değerini 0.05 ile karşılaştıralım ve hipotezi kabul edip etmeme kararını verelim\n",
    "alpha = 0.05\n",
    "if p_value < alpha:\n",
    "    print(\"\\nNull hipotezi reddediyoruz. Bu, kursa katılımın ve cinsiyetin bağımsız olmadığını gösterir.\")\n",
    "else:\n",
    "    print(\"\\nNull hipotezi kabul ediyoruz. Bu, kursa katılımın ve cinsiyetin bağımsız olduğunu gösterir.\")"
   ]
  },
  {
   "cell_type": "markdown",
   "metadata": {},
   "source": []
  },
  {
   "cell_type": "markdown",
   "metadata": {},
   "source": [
    "+ goodness of fit test"
   ]
  },
  {
   "cell_type": "markdown",
   "metadata": {},
   "source": [
    "\n",
    "Data Uretimi\n",
    "\n",
    "Bir web sitesi sahibi olan Christopher, web sitesine abonelik satın alan kişilere ücretsiz bir hediye sunmak istiyor. Yeni aboneler eşit değerde üç hediyeden birini seçebilir: hediye çeki, sevimli oyuncak veya ücretsiz sinema biletleri. 900 kişi kaydolduktan sonra Christopher, sunulan üç hediyenin eşit derecede popüler olup olmadığını görmek için rakamları gözden geçirmek istiyor.Bu 3 hediyenini hepsi eşit seviyede popüler mi?\n"
   ]
  },
  {
   "cell_type": "code",
   "execution_count": 108,
   "metadata": {},
   "outputs": [],
   "source": [
    "# itertools kütüphanesi açıklama: https://docs.python.org/3/library/itertools.html\n",
    "\n",
    "from scipy import stats\n",
    "import numpy as np\n",
    "import pandas as pd\n",
    "import seaborn as sns\n",
    "import itertools\n",
    "\n"
   ]
  },
  {
   "cell_type": "code",
   "execution_count": 109,
   "metadata": {},
   "outputs": [],
   "source": [
    "# data seti oluşturalım\n",
    "# e:hediye çeşitleri..soru metninden alındı..  \n",
    "# n: bu hediyeyi alanların sayısı\n",
    "\n",
    "e = [\"Gift Certificate\", \"Cuddly Toy\", \"Cinema Tickets\"]\n",
    "n = [315, 265, 320]"
   ]
  },
  {
   "cell_type": "code",
   "execution_count": 110,
   "metadata": {},
   "outputs": [
    {
     "data": {
      "text/plain": [
       "['Gift Certificate',\n",
       " 'Gift Certificate',\n",
       " 'Gift Certificate',\n",
       " 'Gift Certificate',\n",
       " 'Gift Certificate',\n",
       " 'Gift Certificate',\n",
       " 'Gift Certificate',\n",
       " 'Gift Certificate',\n",
       " 'Gift Certificate',\n",
       " 'Gift Certificate',\n",
       " 'Gift Certificate',\n",
       " 'Gift Certificate',\n",
       " 'Gift Certificate',\n",
       " 'Gift Certificate',\n",
       " 'Gift Certificate',\n",
       " 'Gift Certificate',\n",
       " 'Gift Certificate',\n",
       " 'Gift Certificate',\n",
       " 'Gift Certificate',\n",
       " 'Gift Certificate',\n",
       " 'Gift Certificate',\n",
       " 'Gift Certificate',\n",
       " 'Gift Certificate',\n",
       " 'Gift Certificate',\n",
       " 'Gift Certificate',\n",
       " 'Gift Certificate',\n",
       " 'Gift Certificate',\n",
       " 'Gift Certificate',\n",
       " 'Gift Certificate',\n",
       " 'Gift Certificate',\n",
       " 'Gift Certificate',\n",
       " 'Gift Certificate',\n",
       " 'Gift Certificate',\n",
       " 'Gift Certificate',\n",
       " 'Gift Certificate',\n",
       " 'Gift Certificate',\n",
       " 'Gift Certificate',\n",
       " 'Gift Certificate',\n",
       " 'Gift Certificate',\n",
       " 'Gift Certificate',\n",
       " 'Gift Certificate',\n",
       " 'Gift Certificate',\n",
       " 'Gift Certificate',\n",
       " 'Gift Certificate',\n",
       " 'Gift Certificate',\n",
       " 'Gift Certificate',\n",
       " 'Gift Certificate',\n",
       " 'Gift Certificate',\n",
       " 'Gift Certificate',\n",
       " 'Gift Certificate',\n",
       " 'Gift Certificate',\n",
       " 'Gift Certificate',\n",
       " 'Gift Certificate',\n",
       " 'Gift Certificate',\n",
       " 'Gift Certificate',\n",
       " 'Gift Certificate',\n",
       " 'Gift Certificate',\n",
       " 'Gift Certificate',\n",
       " 'Gift Certificate',\n",
       " 'Gift Certificate',\n",
       " 'Gift Certificate',\n",
       " 'Gift Certificate',\n",
       " 'Gift Certificate',\n",
       " 'Gift Certificate',\n",
       " 'Gift Certificate',\n",
       " 'Gift Certificate',\n",
       " 'Gift Certificate',\n",
       " 'Gift Certificate',\n",
       " 'Gift Certificate',\n",
       " 'Gift Certificate',\n",
       " 'Gift Certificate',\n",
       " 'Gift Certificate',\n",
       " 'Gift Certificate',\n",
       " 'Gift Certificate',\n",
       " 'Gift Certificate',\n",
       " 'Gift Certificate',\n",
       " 'Gift Certificate',\n",
       " 'Gift Certificate',\n",
       " 'Gift Certificate',\n",
       " 'Gift Certificate',\n",
       " 'Gift Certificate',\n",
       " 'Gift Certificate',\n",
       " 'Gift Certificate',\n",
       " 'Gift Certificate',\n",
       " 'Gift Certificate',\n",
       " 'Gift Certificate',\n",
       " 'Gift Certificate',\n",
       " 'Gift Certificate',\n",
       " 'Gift Certificate',\n",
       " 'Gift Certificate',\n",
       " 'Gift Certificate',\n",
       " 'Gift Certificate',\n",
       " 'Gift Certificate',\n",
       " 'Gift Certificate',\n",
       " 'Gift Certificate',\n",
       " 'Gift Certificate',\n",
       " 'Gift Certificate',\n",
       " 'Gift Certificate',\n",
       " 'Gift Certificate',\n",
       " 'Gift Certificate',\n",
       " 'Gift Certificate',\n",
       " 'Gift Certificate',\n",
       " 'Gift Certificate',\n",
       " 'Gift Certificate',\n",
       " 'Gift Certificate',\n",
       " 'Gift Certificate',\n",
       " 'Gift Certificate',\n",
       " 'Gift Certificate',\n",
       " 'Gift Certificate',\n",
       " 'Gift Certificate',\n",
       " 'Gift Certificate',\n",
       " 'Gift Certificate',\n",
       " 'Gift Certificate',\n",
       " 'Gift Certificate',\n",
       " 'Gift Certificate',\n",
       " 'Gift Certificate',\n",
       " 'Gift Certificate',\n",
       " 'Gift Certificate',\n",
       " 'Gift Certificate',\n",
       " 'Gift Certificate',\n",
       " 'Gift Certificate',\n",
       " 'Gift Certificate',\n",
       " 'Gift Certificate',\n",
       " 'Gift Certificate',\n",
       " 'Gift Certificate',\n",
       " 'Gift Certificate',\n",
       " 'Gift Certificate',\n",
       " 'Gift Certificate',\n",
       " 'Gift Certificate',\n",
       " 'Gift Certificate',\n",
       " 'Gift Certificate',\n",
       " 'Gift Certificate',\n",
       " 'Gift Certificate',\n",
       " 'Gift Certificate',\n",
       " 'Gift Certificate',\n",
       " 'Gift Certificate',\n",
       " 'Gift Certificate',\n",
       " 'Gift Certificate',\n",
       " 'Gift Certificate',\n",
       " 'Gift Certificate',\n",
       " 'Gift Certificate',\n",
       " 'Gift Certificate',\n",
       " 'Gift Certificate',\n",
       " 'Gift Certificate',\n",
       " 'Gift Certificate',\n",
       " 'Gift Certificate',\n",
       " 'Gift Certificate',\n",
       " 'Gift Certificate',\n",
       " 'Gift Certificate',\n",
       " 'Gift Certificate',\n",
       " 'Gift Certificate',\n",
       " 'Gift Certificate',\n",
       " 'Gift Certificate',\n",
       " 'Gift Certificate',\n",
       " 'Gift Certificate',\n",
       " 'Gift Certificate',\n",
       " 'Gift Certificate',\n",
       " 'Gift Certificate',\n",
       " 'Gift Certificate',\n",
       " 'Gift Certificate',\n",
       " 'Gift Certificate',\n",
       " 'Gift Certificate',\n",
       " 'Gift Certificate',\n",
       " 'Gift Certificate',\n",
       " 'Gift Certificate',\n",
       " 'Gift Certificate',\n",
       " 'Gift Certificate',\n",
       " 'Gift Certificate',\n",
       " 'Gift Certificate',\n",
       " 'Gift Certificate',\n",
       " 'Gift Certificate',\n",
       " 'Gift Certificate',\n",
       " 'Gift Certificate',\n",
       " 'Gift Certificate',\n",
       " 'Gift Certificate',\n",
       " 'Gift Certificate',\n",
       " 'Gift Certificate',\n",
       " 'Gift Certificate',\n",
       " 'Gift Certificate',\n",
       " 'Gift Certificate',\n",
       " 'Gift Certificate',\n",
       " 'Gift Certificate',\n",
       " 'Gift Certificate',\n",
       " 'Gift Certificate',\n",
       " 'Gift Certificate',\n",
       " 'Gift Certificate',\n",
       " 'Gift Certificate',\n",
       " 'Gift Certificate',\n",
       " 'Gift Certificate',\n",
       " 'Gift Certificate',\n",
       " 'Gift Certificate',\n",
       " 'Gift Certificate',\n",
       " 'Gift Certificate',\n",
       " 'Gift Certificate',\n",
       " 'Gift Certificate',\n",
       " 'Gift Certificate',\n",
       " 'Gift Certificate',\n",
       " 'Gift Certificate',\n",
       " 'Gift Certificate',\n",
       " 'Gift Certificate',\n",
       " 'Gift Certificate',\n",
       " 'Gift Certificate',\n",
       " 'Gift Certificate',\n",
       " 'Gift Certificate',\n",
       " 'Gift Certificate',\n",
       " 'Gift Certificate',\n",
       " 'Gift Certificate',\n",
       " 'Gift Certificate',\n",
       " 'Gift Certificate',\n",
       " 'Gift Certificate',\n",
       " 'Gift Certificate',\n",
       " 'Gift Certificate',\n",
       " 'Gift Certificate',\n",
       " 'Gift Certificate',\n",
       " 'Gift Certificate',\n",
       " 'Gift Certificate',\n",
       " 'Gift Certificate',\n",
       " 'Gift Certificate',\n",
       " 'Gift Certificate',\n",
       " 'Gift Certificate',\n",
       " 'Gift Certificate',\n",
       " 'Gift Certificate',\n",
       " 'Gift Certificate',\n",
       " 'Gift Certificate',\n",
       " 'Gift Certificate',\n",
       " 'Gift Certificate',\n",
       " 'Gift Certificate',\n",
       " 'Gift Certificate',\n",
       " 'Gift Certificate',\n",
       " 'Gift Certificate',\n",
       " 'Gift Certificate',\n",
       " 'Gift Certificate',\n",
       " 'Gift Certificate',\n",
       " 'Gift Certificate',\n",
       " 'Gift Certificate',\n",
       " 'Gift Certificate',\n",
       " 'Gift Certificate',\n",
       " 'Gift Certificate',\n",
       " 'Gift Certificate',\n",
       " 'Gift Certificate',\n",
       " 'Gift Certificate',\n",
       " 'Gift Certificate',\n",
       " 'Gift Certificate',\n",
       " 'Gift Certificate',\n",
       " 'Gift Certificate',\n",
       " 'Gift Certificate',\n",
       " 'Gift Certificate',\n",
       " 'Gift Certificate',\n",
       " 'Gift Certificate',\n",
       " 'Gift Certificate',\n",
       " 'Gift Certificate',\n",
       " 'Gift Certificate',\n",
       " 'Gift Certificate',\n",
       " 'Gift Certificate',\n",
       " 'Gift Certificate',\n",
       " 'Gift Certificate',\n",
       " 'Gift Certificate',\n",
       " 'Gift Certificate',\n",
       " 'Gift Certificate',\n",
       " 'Gift Certificate',\n",
       " 'Gift Certificate',\n",
       " 'Gift Certificate',\n",
       " 'Gift Certificate',\n",
       " 'Gift Certificate',\n",
       " 'Gift Certificate',\n",
       " 'Gift Certificate',\n",
       " 'Gift Certificate',\n",
       " 'Gift Certificate',\n",
       " 'Gift Certificate',\n",
       " 'Gift Certificate',\n",
       " 'Gift Certificate',\n",
       " 'Gift Certificate',\n",
       " 'Gift Certificate',\n",
       " 'Gift Certificate',\n",
       " 'Gift Certificate',\n",
       " 'Gift Certificate',\n",
       " 'Gift Certificate',\n",
       " 'Gift Certificate',\n",
       " 'Gift Certificate',\n",
       " 'Gift Certificate',\n",
       " 'Gift Certificate',\n",
       " 'Gift Certificate',\n",
       " 'Gift Certificate',\n",
       " 'Gift Certificate',\n",
       " 'Gift Certificate',\n",
       " 'Gift Certificate',\n",
       " 'Gift Certificate',\n",
       " 'Gift Certificate',\n",
       " 'Gift Certificate',\n",
       " 'Gift Certificate',\n",
       " 'Gift Certificate',\n",
       " 'Gift Certificate',\n",
       " 'Gift Certificate',\n",
       " 'Gift Certificate',\n",
       " 'Gift Certificate',\n",
       " 'Gift Certificate',\n",
       " 'Gift Certificate',\n",
       " 'Gift Certificate',\n",
       " 'Gift Certificate',\n",
       " 'Gift Certificate',\n",
       " 'Gift Certificate',\n",
       " 'Gift Certificate',\n",
       " 'Gift Certificate',\n",
       " 'Gift Certificate',\n",
       " 'Gift Certificate',\n",
       " 'Gift Certificate',\n",
       " 'Gift Certificate',\n",
       " 'Gift Certificate',\n",
       " 'Gift Certificate',\n",
       " 'Gift Certificate',\n",
       " 'Gift Certificate',\n",
       " 'Gift Certificate',\n",
       " 'Gift Certificate',\n",
       " 'Gift Certificate',\n",
       " 'Gift Certificate']"
      ]
     },
     "execution_count": 110,
     "metadata": {},
     "output_type": "execute_result"
    }
   ],
   "source": [
    "\n",
    "\n",
    "# kategorik veri uretimini e ve n degerlerine gore yapalım\n",
    "\n",
    "list(itertools.repeat(e[0], n[0]))\n",
    "\n"
   ]
  },
  {
   "cell_type": "code",
   "execution_count": 111,
   "metadata": {},
   "outputs": [],
   "source": [
    "\n",
    "\n",
    "#herbir hediye icin verilen n sayısında uretelim\n",
    "\n",
    "it1 = np.array(list(itertools.repeat(e[0], n[0])))\n",
    "it2 = np.array(list(itertools.repeat(e[1], n[1])))\n",
    "it3 = np.array(list(itertools.repeat(e[2], n[2])))\n",
    "\n"
   ]
  },
  {
   "cell_type": "code",
   "execution_count": 112,
   "metadata": {},
   "outputs": [
    {
     "data": {
      "text/plain": [
       "array(['Gift Certificate', 'Gift Certificate', 'Gift Certificate',\n",
       "       'Gift Certificate', 'Gift Certificate', 'Gift Certificate',\n",
       "       'Gift Certificate', 'Gift Certificate', 'Gift Certificate',\n",
       "       'Gift Certificate', 'Gift Certificate', 'Gift Certificate',\n",
       "       'Gift Certificate', 'Gift Certificate', 'Gift Certificate',\n",
       "       'Gift Certificate', 'Gift Certificate', 'Gift Certificate',\n",
       "       'Gift Certificate', 'Gift Certificate', 'Gift Certificate',\n",
       "       'Gift Certificate', 'Gift Certificate', 'Gift Certificate',\n",
       "       'Gift Certificate', 'Gift Certificate', 'Gift Certificate',\n",
       "       'Gift Certificate', 'Gift Certificate', 'Gift Certificate',\n",
       "       'Gift Certificate', 'Gift Certificate', 'Gift Certificate',\n",
       "       'Gift Certificate', 'Gift Certificate', 'Gift Certificate',\n",
       "       'Gift Certificate', 'Gift Certificate', 'Gift Certificate',\n",
       "       'Gift Certificate', 'Gift Certificate', 'Gift Certificate',\n",
       "       'Gift Certificate', 'Gift Certificate', 'Gift Certificate',\n",
       "       'Gift Certificate', 'Gift Certificate', 'Gift Certificate',\n",
       "       'Gift Certificate', 'Gift Certificate', 'Gift Certificate',\n",
       "       'Gift Certificate', 'Gift Certificate', 'Gift Certificate',\n",
       "       'Gift Certificate', 'Gift Certificate', 'Gift Certificate',\n",
       "       'Gift Certificate', 'Gift Certificate', 'Gift Certificate',\n",
       "       'Gift Certificate', 'Gift Certificate', 'Gift Certificate',\n",
       "       'Gift Certificate', 'Gift Certificate', 'Gift Certificate',\n",
       "       'Gift Certificate', 'Gift Certificate', 'Gift Certificate',\n",
       "       'Gift Certificate', 'Gift Certificate', 'Gift Certificate',\n",
       "       'Gift Certificate', 'Gift Certificate', 'Gift Certificate',\n",
       "       'Gift Certificate', 'Gift Certificate', 'Gift Certificate',\n",
       "       'Gift Certificate', 'Gift Certificate', 'Gift Certificate',\n",
       "       'Gift Certificate', 'Gift Certificate', 'Gift Certificate',\n",
       "       'Gift Certificate', 'Gift Certificate', 'Gift Certificate',\n",
       "       'Gift Certificate', 'Gift Certificate', 'Gift Certificate',\n",
       "       'Gift Certificate', 'Gift Certificate', 'Gift Certificate',\n",
       "       'Gift Certificate', 'Gift Certificate', 'Gift Certificate',\n",
       "       'Gift Certificate', 'Gift Certificate', 'Gift Certificate',\n",
       "       'Gift Certificate', 'Gift Certificate', 'Gift Certificate',\n",
       "       'Gift Certificate', 'Gift Certificate', 'Gift Certificate',\n",
       "       'Gift Certificate', 'Gift Certificate', 'Gift Certificate',\n",
       "       'Gift Certificate', 'Gift Certificate', 'Gift Certificate',\n",
       "       'Gift Certificate', 'Gift Certificate', 'Gift Certificate',\n",
       "       'Gift Certificate', 'Gift Certificate', 'Gift Certificate',\n",
       "       'Gift Certificate', 'Gift Certificate', 'Gift Certificate',\n",
       "       'Gift Certificate', 'Gift Certificate', 'Gift Certificate',\n",
       "       'Gift Certificate', 'Gift Certificate', 'Gift Certificate',\n",
       "       'Gift Certificate', 'Gift Certificate', 'Gift Certificate',\n",
       "       'Gift Certificate', 'Gift Certificate', 'Gift Certificate',\n",
       "       'Gift Certificate', 'Gift Certificate', 'Gift Certificate',\n",
       "       'Gift Certificate', 'Gift Certificate', 'Gift Certificate',\n",
       "       'Gift Certificate', 'Gift Certificate', 'Gift Certificate',\n",
       "       'Gift Certificate', 'Gift Certificate', 'Gift Certificate',\n",
       "       'Gift Certificate', 'Gift Certificate', 'Gift Certificate',\n",
       "       'Gift Certificate', 'Gift Certificate', 'Gift Certificate',\n",
       "       'Gift Certificate', 'Gift Certificate', 'Gift Certificate',\n",
       "       'Gift Certificate', 'Gift Certificate', 'Gift Certificate',\n",
       "       'Gift Certificate', 'Gift Certificate', 'Gift Certificate',\n",
       "       'Gift Certificate', 'Gift Certificate', 'Gift Certificate',\n",
       "       'Gift Certificate', 'Gift Certificate', 'Gift Certificate',\n",
       "       'Gift Certificate', 'Gift Certificate', 'Gift Certificate',\n",
       "       'Gift Certificate', 'Gift Certificate', 'Gift Certificate',\n",
       "       'Gift Certificate', 'Gift Certificate', 'Gift Certificate',\n",
       "       'Gift Certificate', 'Gift Certificate', 'Gift Certificate',\n",
       "       'Gift Certificate', 'Gift Certificate', 'Gift Certificate',\n",
       "       'Gift Certificate', 'Gift Certificate', 'Gift Certificate',\n",
       "       'Gift Certificate', 'Gift Certificate', 'Gift Certificate',\n",
       "       'Gift Certificate', 'Gift Certificate', 'Gift Certificate',\n",
       "       'Gift Certificate', 'Gift Certificate', 'Gift Certificate',\n",
       "       'Gift Certificate', 'Gift Certificate', 'Gift Certificate',\n",
       "       'Gift Certificate', 'Gift Certificate', 'Gift Certificate',\n",
       "       'Gift Certificate', 'Gift Certificate', 'Gift Certificate',\n",
       "       'Gift Certificate', 'Gift Certificate', 'Gift Certificate',\n",
       "       'Gift Certificate', 'Gift Certificate', 'Gift Certificate',\n",
       "       'Gift Certificate', 'Gift Certificate', 'Gift Certificate',\n",
       "       'Gift Certificate', 'Gift Certificate', 'Gift Certificate',\n",
       "       'Gift Certificate', 'Gift Certificate', 'Gift Certificate',\n",
       "       'Gift Certificate', 'Gift Certificate', 'Gift Certificate',\n",
       "       'Gift Certificate', 'Gift Certificate', 'Gift Certificate',\n",
       "       'Gift Certificate', 'Gift Certificate', 'Gift Certificate',\n",
       "       'Gift Certificate', 'Gift Certificate', 'Gift Certificate',\n",
       "       'Gift Certificate', 'Gift Certificate', 'Gift Certificate',\n",
       "       'Gift Certificate', 'Gift Certificate', 'Gift Certificate',\n",
       "       'Gift Certificate', 'Gift Certificate', 'Gift Certificate',\n",
       "       'Gift Certificate', 'Gift Certificate', 'Gift Certificate',\n",
       "       'Gift Certificate', 'Gift Certificate', 'Gift Certificate',\n",
       "       'Gift Certificate', 'Gift Certificate', 'Gift Certificate',\n",
       "       'Gift Certificate', 'Gift Certificate', 'Gift Certificate',\n",
       "       'Gift Certificate', 'Gift Certificate', 'Gift Certificate',\n",
       "       'Gift Certificate', 'Gift Certificate', 'Gift Certificate',\n",
       "       'Gift Certificate', 'Gift Certificate', 'Gift Certificate',\n",
       "       'Gift Certificate', 'Gift Certificate', 'Gift Certificate',\n",
       "       'Gift Certificate', 'Gift Certificate', 'Gift Certificate',\n",
       "       'Gift Certificate', 'Gift Certificate', 'Gift Certificate',\n",
       "       'Gift Certificate', 'Gift Certificate', 'Gift Certificate',\n",
       "       'Gift Certificate', 'Gift Certificate', 'Gift Certificate',\n",
       "       'Gift Certificate', 'Gift Certificate', 'Gift Certificate',\n",
       "       'Gift Certificate', 'Gift Certificate', 'Gift Certificate',\n",
       "       'Gift Certificate', 'Gift Certificate', 'Gift Certificate',\n",
       "       'Gift Certificate', 'Gift Certificate', 'Gift Certificate',\n",
       "       'Gift Certificate', 'Gift Certificate', 'Gift Certificate',\n",
       "       'Gift Certificate', 'Gift Certificate', 'Gift Certificate',\n",
       "       'Gift Certificate', 'Gift Certificate', 'Gift Certificate',\n",
       "       'Gift Certificate', 'Gift Certificate', 'Gift Certificate',\n",
       "       'Gift Certificate', 'Gift Certificate', 'Gift Certificate',\n",
       "       'Gift Certificate', 'Gift Certificate', 'Gift Certificate',\n",
       "       'Gift Certificate', 'Gift Certificate', 'Gift Certificate',\n",
       "       'Gift Certificate', 'Gift Certificate', 'Gift Certificate',\n",
       "       'Gift Certificate', 'Gift Certificate', 'Gift Certificate',\n",
       "       'Gift Certificate', 'Gift Certificate', 'Gift Certificate',\n",
       "       'Cuddly Toy', 'Cuddly Toy', 'Cuddly Toy', 'Cuddly Toy',\n",
       "       'Cuddly Toy', 'Cuddly Toy', 'Cuddly Toy', 'Cuddly Toy',\n",
       "       'Cuddly Toy', 'Cuddly Toy', 'Cuddly Toy', 'Cuddly Toy',\n",
       "       'Cuddly Toy', 'Cuddly Toy', 'Cuddly Toy', 'Cuddly Toy',\n",
       "       'Cuddly Toy', 'Cuddly Toy', 'Cuddly Toy', 'Cuddly Toy',\n",
       "       'Cuddly Toy', 'Cuddly Toy', 'Cuddly Toy', 'Cuddly Toy',\n",
       "       'Cuddly Toy', 'Cuddly Toy', 'Cuddly Toy', 'Cuddly Toy',\n",
       "       'Cuddly Toy', 'Cuddly Toy', 'Cuddly Toy', 'Cuddly Toy',\n",
       "       'Cuddly Toy', 'Cuddly Toy', 'Cuddly Toy', 'Cuddly Toy',\n",
       "       'Cuddly Toy', 'Cuddly Toy', 'Cuddly Toy', 'Cuddly Toy',\n",
       "       'Cuddly Toy', 'Cuddly Toy', 'Cuddly Toy', 'Cuddly Toy',\n",
       "       'Cuddly Toy', 'Cuddly Toy', 'Cuddly Toy', 'Cuddly Toy',\n",
       "       'Cuddly Toy', 'Cuddly Toy', 'Cuddly Toy', 'Cuddly Toy',\n",
       "       'Cuddly Toy', 'Cuddly Toy', 'Cuddly Toy', 'Cuddly Toy',\n",
       "       'Cuddly Toy', 'Cuddly Toy', 'Cuddly Toy', 'Cuddly Toy',\n",
       "       'Cuddly Toy', 'Cuddly Toy', 'Cuddly Toy', 'Cuddly Toy',\n",
       "       'Cuddly Toy', 'Cuddly Toy', 'Cuddly Toy', 'Cuddly Toy',\n",
       "       'Cuddly Toy', 'Cuddly Toy', 'Cuddly Toy', 'Cuddly Toy',\n",
       "       'Cuddly Toy', 'Cuddly Toy', 'Cuddly Toy', 'Cuddly Toy',\n",
       "       'Cuddly Toy', 'Cuddly Toy', 'Cuddly Toy', 'Cuddly Toy',\n",
       "       'Cuddly Toy', 'Cuddly Toy', 'Cuddly Toy', 'Cuddly Toy',\n",
       "       'Cuddly Toy', 'Cuddly Toy', 'Cuddly Toy', 'Cuddly Toy',\n",
       "       'Cuddly Toy', 'Cuddly Toy', 'Cuddly Toy', 'Cuddly Toy',\n",
       "       'Cuddly Toy', 'Cuddly Toy', 'Cuddly Toy', 'Cuddly Toy',\n",
       "       'Cuddly Toy', 'Cuddly Toy', 'Cuddly Toy', 'Cuddly Toy',\n",
       "       'Cuddly Toy', 'Cuddly Toy', 'Cuddly Toy', 'Cuddly Toy',\n",
       "       'Cuddly Toy', 'Cuddly Toy', 'Cuddly Toy', 'Cuddly Toy',\n",
       "       'Cuddly Toy', 'Cuddly Toy', 'Cuddly Toy', 'Cuddly Toy',\n",
       "       'Cuddly Toy', 'Cuddly Toy', 'Cuddly Toy', 'Cuddly Toy',\n",
       "       'Cuddly Toy', 'Cuddly Toy', 'Cuddly Toy', 'Cuddly Toy',\n",
       "       'Cuddly Toy', 'Cuddly Toy', 'Cuddly Toy', 'Cuddly Toy',\n",
       "       'Cuddly Toy', 'Cuddly Toy', 'Cuddly Toy', 'Cuddly Toy',\n",
       "       'Cuddly Toy', 'Cuddly Toy', 'Cuddly Toy', 'Cuddly Toy',\n",
       "       'Cuddly Toy', 'Cuddly Toy', 'Cuddly Toy', 'Cuddly Toy',\n",
       "       'Cuddly Toy', 'Cuddly Toy', 'Cuddly Toy', 'Cuddly Toy',\n",
       "       'Cuddly Toy', 'Cuddly Toy', 'Cuddly Toy', 'Cuddly Toy',\n",
       "       'Cuddly Toy', 'Cuddly Toy', 'Cuddly Toy', 'Cuddly Toy',\n",
       "       'Cuddly Toy', 'Cuddly Toy', 'Cuddly Toy', 'Cuddly Toy',\n",
       "       'Cuddly Toy', 'Cuddly Toy', 'Cuddly Toy', 'Cuddly Toy',\n",
       "       'Cuddly Toy', 'Cuddly Toy', 'Cuddly Toy', 'Cuddly Toy',\n",
       "       'Cuddly Toy', 'Cuddly Toy', 'Cuddly Toy', 'Cuddly Toy',\n",
       "       'Cuddly Toy', 'Cuddly Toy', 'Cuddly Toy', 'Cuddly Toy',\n",
       "       'Cuddly Toy', 'Cuddly Toy', 'Cuddly Toy', 'Cuddly Toy',\n",
       "       'Cuddly Toy', 'Cuddly Toy', 'Cuddly Toy', 'Cuddly Toy',\n",
       "       'Cuddly Toy', 'Cuddly Toy', 'Cuddly Toy', 'Cuddly Toy',\n",
       "       'Cuddly Toy', 'Cuddly Toy', 'Cuddly Toy', 'Cuddly Toy',\n",
       "       'Cuddly Toy', 'Cuddly Toy', 'Cuddly Toy', 'Cuddly Toy',\n",
       "       'Cuddly Toy', 'Cuddly Toy', 'Cuddly Toy', 'Cuddly Toy',\n",
       "       'Cuddly Toy', 'Cuddly Toy', 'Cuddly Toy', 'Cuddly Toy',\n",
       "       'Cuddly Toy', 'Cuddly Toy', 'Cuddly Toy', 'Cuddly Toy',\n",
       "       'Cuddly Toy', 'Cuddly Toy', 'Cuddly Toy', 'Cuddly Toy',\n",
       "       'Cuddly Toy', 'Cuddly Toy', 'Cuddly Toy', 'Cuddly Toy',\n",
       "       'Cuddly Toy', 'Cuddly Toy', 'Cuddly Toy', 'Cuddly Toy',\n",
       "       'Cuddly Toy', 'Cuddly Toy', 'Cuddly Toy', 'Cuddly Toy',\n",
       "       'Cuddly Toy', 'Cuddly Toy', 'Cuddly Toy', 'Cuddly Toy',\n",
       "       'Cuddly Toy', 'Cuddly Toy', 'Cuddly Toy', 'Cuddly Toy',\n",
       "       'Cuddly Toy', 'Cuddly Toy', 'Cuddly Toy', 'Cuddly Toy',\n",
       "       'Cuddly Toy', 'Cuddly Toy', 'Cuddly Toy', 'Cuddly Toy',\n",
       "       'Cuddly Toy', 'Cuddly Toy', 'Cuddly Toy', 'Cuddly Toy',\n",
       "       'Cuddly Toy', 'Cuddly Toy', 'Cuddly Toy', 'Cuddly Toy',\n",
       "       'Cuddly Toy', 'Cuddly Toy', 'Cuddly Toy', 'Cuddly Toy',\n",
       "       'Cuddly Toy', 'Cuddly Toy', 'Cuddly Toy', 'Cuddly Toy',\n",
       "       'Cuddly Toy', 'Cuddly Toy', 'Cuddly Toy', 'Cuddly Toy',\n",
       "       'Cuddly Toy', 'Cuddly Toy', 'Cuddly Toy', 'Cuddly Toy',\n",
       "       'Cuddly Toy', 'Cuddly Toy', 'Cuddly Toy', 'Cuddly Toy',\n",
       "       'Cuddly Toy', 'Cuddly Toy', 'Cuddly Toy', 'Cuddly Toy',\n",
       "       'Cuddly Toy', 'Cinema Tickets', 'Cinema Tickets', 'Cinema Tickets',\n",
       "       'Cinema Tickets', 'Cinema Tickets', 'Cinema Tickets',\n",
       "       'Cinema Tickets', 'Cinema Tickets', 'Cinema Tickets',\n",
       "       'Cinema Tickets', 'Cinema Tickets', 'Cinema Tickets',\n",
       "       'Cinema Tickets', 'Cinema Tickets', 'Cinema Tickets',\n",
       "       'Cinema Tickets', 'Cinema Tickets', 'Cinema Tickets',\n",
       "       'Cinema Tickets', 'Cinema Tickets', 'Cinema Tickets',\n",
       "       'Cinema Tickets', 'Cinema Tickets', 'Cinema Tickets',\n",
       "       'Cinema Tickets', 'Cinema Tickets', 'Cinema Tickets',\n",
       "       'Cinema Tickets', 'Cinema Tickets', 'Cinema Tickets',\n",
       "       'Cinema Tickets', 'Cinema Tickets', 'Cinema Tickets',\n",
       "       'Cinema Tickets', 'Cinema Tickets', 'Cinema Tickets',\n",
       "       'Cinema Tickets', 'Cinema Tickets', 'Cinema Tickets',\n",
       "       'Cinema Tickets', 'Cinema Tickets', 'Cinema Tickets',\n",
       "       'Cinema Tickets', 'Cinema Tickets', 'Cinema Tickets',\n",
       "       'Cinema Tickets', 'Cinema Tickets', 'Cinema Tickets',\n",
       "       'Cinema Tickets', 'Cinema Tickets', 'Cinema Tickets',\n",
       "       'Cinema Tickets', 'Cinema Tickets', 'Cinema Tickets',\n",
       "       'Cinema Tickets', 'Cinema Tickets', 'Cinema Tickets',\n",
       "       'Cinema Tickets', 'Cinema Tickets', 'Cinema Tickets',\n",
       "       'Cinema Tickets', 'Cinema Tickets', 'Cinema Tickets',\n",
       "       'Cinema Tickets', 'Cinema Tickets', 'Cinema Tickets',\n",
       "       'Cinema Tickets', 'Cinema Tickets', 'Cinema Tickets',\n",
       "       'Cinema Tickets', 'Cinema Tickets', 'Cinema Tickets',\n",
       "       'Cinema Tickets', 'Cinema Tickets', 'Cinema Tickets',\n",
       "       'Cinema Tickets', 'Cinema Tickets', 'Cinema Tickets',\n",
       "       'Cinema Tickets', 'Cinema Tickets', 'Cinema Tickets',\n",
       "       'Cinema Tickets', 'Cinema Tickets', 'Cinema Tickets',\n",
       "       'Cinema Tickets', 'Cinema Tickets', 'Cinema Tickets',\n",
       "       'Cinema Tickets', 'Cinema Tickets', 'Cinema Tickets',\n",
       "       'Cinema Tickets', 'Cinema Tickets', 'Cinema Tickets',\n",
       "       'Cinema Tickets', 'Cinema Tickets', 'Cinema Tickets',\n",
       "       'Cinema Tickets', 'Cinema Tickets', 'Cinema Tickets',\n",
       "       'Cinema Tickets', 'Cinema Tickets', 'Cinema Tickets',\n",
       "       'Cinema Tickets', 'Cinema Tickets', 'Cinema Tickets',\n",
       "       'Cinema Tickets', 'Cinema Tickets', 'Cinema Tickets',\n",
       "       'Cinema Tickets', 'Cinema Tickets', 'Cinema Tickets',\n",
       "       'Cinema Tickets', 'Cinema Tickets', 'Cinema Tickets',\n",
       "       'Cinema Tickets', 'Cinema Tickets', 'Cinema Tickets',\n",
       "       'Cinema Tickets', 'Cinema Tickets', 'Cinema Tickets',\n",
       "       'Cinema Tickets', 'Cinema Tickets', 'Cinema Tickets',\n",
       "       'Cinema Tickets', 'Cinema Tickets', 'Cinema Tickets',\n",
       "       'Cinema Tickets', 'Cinema Tickets', 'Cinema Tickets',\n",
       "       'Cinema Tickets', 'Cinema Tickets', 'Cinema Tickets',\n",
       "       'Cinema Tickets', 'Cinema Tickets', 'Cinema Tickets',\n",
       "       'Cinema Tickets', 'Cinema Tickets', 'Cinema Tickets',\n",
       "       'Cinema Tickets', 'Cinema Tickets', 'Cinema Tickets',\n",
       "       'Cinema Tickets', 'Cinema Tickets', 'Cinema Tickets',\n",
       "       'Cinema Tickets', 'Cinema Tickets', 'Cinema Tickets',\n",
       "       'Cinema Tickets', 'Cinema Tickets', 'Cinema Tickets',\n",
       "       'Cinema Tickets', 'Cinema Tickets', 'Cinema Tickets',\n",
       "       'Cinema Tickets', 'Cinema Tickets', 'Cinema Tickets',\n",
       "       'Cinema Tickets', 'Cinema Tickets', 'Cinema Tickets',\n",
       "       'Cinema Tickets', 'Cinema Tickets', 'Cinema Tickets',\n",
       "       'Cinema Tickets', 'Cinema Tickets', 'Cinema Tickets',\n",
       "       'Cinema Tickets', 'Cinema Tickets', 'Cinema Tickets',\n",
       "       'Cinema Tickets', 'Cinema Tickets', 'Cinema Tickets',\n",
       "       'Cinema Tickets', 'Cinema Tickets', 'Cinema Tickets',\n",
       "       'Cinema Tickets', 'Cinema Tickets', 'Cinema Tickets',\n",
       "       'Cinema Tickets', 'Cinema Tickets', 'Cinema Tickets',\n",
       "       'Cinema Tickets', 'Cinema Tickets', 'Cinema Tickets',\n",
       "       'Cinema Tickets', 'Cinema Tickets', 'Cinema Tickets',\n",
       "       'Cinema Tickets', 'Cinema Tickets', 'Cinema Tickets',\n",
       "       'Cinema Tickets', 'Cinema Tickets', 'Cinema Tickets',\n",
       "       'Cinema Tickets', 'Cinema Tickets', 'Cinema Tickets',\n",
       "       'Cinema Tickets', 'Cinema Tickets', 'Cinema Tickets',\n",
       "       'Cinema Tickets', 'Cinema Tickets', 'Cinema Tickets',\n",
       "       'Cinema Tickets', 'Cinema Tickets', 'Cinema Tickets',\n",
       "       'Cinema Tickets', 'Cinema Tickets', 'Cinema Tickets',\n",
       "       'Cinema Tickets', 'Cinema Tickets', 'Cinema Tickets',\n",
       "       'Cinema Tickets', 'Cinema Tickets', 'Cinema Tickets',\n",
       "       'Cinema Tickets', 'Cinema Tickets', 'Cinema Tickets',\n",
       "       'Cinema Tickets', 'Cinema Tickets', 'Cinema Tickets',\n",
       "       'Cinema Tickets', 'Cinema Tickets', 'Cinema Tickets',\n",
       "       'Cinema Tickets', 'Cinema Tickets', 'Cinema Tickets',\n",
       "       'Cinema Tickets', 'Cinema Tickets', 'Cinema Tickets',\n",
       "       'Cinema Tickets', 'Cinema Tickets', 'Cinema Tickets',\n",
       "       'Cinema Tickets', 'Cinema Tickets', 'Cinema Tickets',\n",
       "       'Cinema Tickets', 'Cinema Tickets', 'Cinema Tickets',\n",
       "       'Cinema Tickets', 'Cinema Tickets', 'Cinema Tickets',\n",
       "       'Cinema Tickets', 'Cinema Tickets', 'Cinema Tickets',\n",
       "       'Cinema Tickets', 'Cinema Tickets', 'Cinema Tickets',\n",
       "       'Cinema Tickets', 'Cinema Tickets', 'Cinema Tickets',\n",
       "       'Cinema Tickets', 'Cinema Tickets', 'Cinema Tickets',\n",
       "       'Cinema Tickets', 'Cinema Tickets', 'Cinema Tickets',\n",
       "       'Cinema Tickets', 'Cinema Tickets', 'Cinema Tickets',\n",
       "       'Cinema Tickets', 'Cinema Tickets', 'Cinema Tickets',\n",
       "       'Cinema Tickets', 'Cinema Tickets', 'Cinema Tickets',\n",
       "       'Cinema Tickets', 'Cinema Tickets', 'Cinema Tickets',\n",
       "       'Cinema Tickets', 'Cinema Tickets', 'Cinema Tickets',\n",
       "       'Cinema Tickets', 'Cinema Tickets', 'Cinema Tickets',\n",
       "       'Cinema Tickets', 'Cinema Tickets', 'Cinema Tickets',\n",
       "       'Cinema Tickets', 'Cinema Tickets', 'Cinema Tickets',\n",
       "       'Cinema Tickets', 'Cinema Tickets', 'Cinema Tickets',\n",
       "       'Cinema Tickets', 'Cinema Tickets', 'Cinema Tickets',\n",
       "       'Cinema Tickets', 'Cinema Tickets', 'Cinema Tickets',\n",
       "       'Cinema Tickets', 'Cinema Tickets', 'Cinema Tickets',\n",
       "       'Cinema Tickets', 'Cinema Tickets', 'Cinema Tickets',\n",
       "       'Cinema Tickets', 'Cinema Tickets', 'Cinema Tickets',\n",
       "       'Cinema Tickets', 'Cinema Tickets', 'Cinema Tickets',\n",
       "       'Cinema Tickets', 'Cinema Tickets', 'Cinema Tickets',\n",
       "       'Cinema Tickets', 'Cinema Tickets', 'Cinema Tickets',\n",
       "       'Cinema Tickets', 'Cinema Tickets', 'Cinema Tickets',\n",
       "       'Cinema Tickets', 'Cinema Tickets', 'Cinema Tickets',\n",
       "       'Cinema Tickets', 'Cinema Tickets', 'Cinema Tickets',\n",
       "       'Cinema Tickets', 'Cinema Tickets', 'Cinema Tickets',\n",
       "       'Cinema Tickets', 'Cinema Tickets'], dtype='<U16')"
      ]
     },
     "execution_count": 112,
     "metadata": {},
     "output_type": "execute_result"
    }
   ],
   "source": [
    "# yukarda uretilen array leri cncat yapalım\n",
    "# bu bolumde chi-square ıcın data uretiyoruz\n",
    "\n",
    "gift_type = np.concatenate([it1, it2, it3])\n",
    "gift_type"
   ]
  },
  {
   "cell_type": "code",
   "execution_count": 113,
   "metadata": {},
   "outputs": [
    {
     "data": {
      "text/plain": [
       "900"
      ]
     },
     "execution_count": 113,
     "metadata": {},
     "output_type": "execute_result"
    }
   ],
   "source": [
    "# 900 data nın kontrolu\n",
    "    \n",
    "len(gift_type)"
   ]
  },
  {
   "cell_type": "markdown",
   "metadata": {},
   "source": []
  },
  {
   "cell_type": "markdown",
   "metadata": {},
   "source": [
    "One-way Chi-square Test (Goodness of Fit test)"
   ]
  },
  {
   "cell_type": "markdown",
   "metadata": {},
   "source": [
    "observed degerler yukarda n dizisi ile uretildi\n",
    "expected value olarak 300-300-300 estlik durumunu inceleyelim\n",
    "observed degerlerle expcted degerler arasında anlamlı fark var mı ?\n",
    "\n",
    "H0: \"there is no significant difference between the observed and the expected (theoretical) distribution\"\n",
    "H1: \"there is a significant difference between the observed and the expected (theoretical) distribution\"\n"
   ]
  },
  {
   "cell_type": "code",
   "execution_count": 114,
   "metadata": {},
   "outputs": [],
   "source": [
    "# alttaki tabloda hediye isimleri ve observed-expected valu degerler goruluyor"
   ]
  },
  {
   "cell_type": "markdown",
   "metadata": {},
   "source": [
    " \tObserved \tExpected \tDifference \tDifference Sq. \tDiff. Sq. / Exp Fr.\n",
    "Gift Certificate \t   315 \t   300 \t      15.00   \t  225.00 \t     0.75\n",
    "Cuddly Toy          \t 265   \t 300 \t   -35.00 \t    1225.00 \t     4.08 Cinema Tickets \t      320 \t    300 \t  20.00 \t   400.00 \t   1.33\n",
    "\t\t\t  \t  \t \n",
    "  \t  \t  \t  \t  \t  6.167"
   ]
  },
  {
   "cell_type": "code",
   "execution_count": 115,
   "metadata": {},
   "outputs": [],
   "source": [
    "# Chi-square= 6,167 (üstteki rakamların toplamı)\n",
    "#  tablodaki 0.75 degeri : Diff Sq/Exp.Fr: 225/300 olarak elde edilir "
   ]
  },
  {
   "cell_type": "code",
   "execution_count": 118,
   "metadata": {},
   "outputs": [
    {
     "data": {
      "text/plain": [
       "np.float64(0.045798680423089544)"
      ]
     },
     "execution_count": 118,
     "metadata": {},
     "output_type": "execute_result"
    }
   ],
   "source": [
    "# scipy üzerınden chi-sqaure fonksiyonu kullanalım\n",
    "# https://docs.scipy.org/doc/scipy/reference/generated/scipy.stats.chi2.html\n",
    "# df = level sayısı -1 : 3-1 = 2 \n",
    "\n",
    "pvalue = 1 - stats.chi2.cdf(6.167, 2)\n",
    "pvalue\n"
   ]
  },
  {
   "cell_type": "code",
   "execution_count": null,
   "metadata": {},
   "outputs": [],
   "source": [
    "# p value < alpha olduğu için null hipotez reddedilir\n",
    "# aralarındaki fark anlamlıdır\n"
   ]
  },
  {
   "cell_type": "markdown",
   "metadata": {},
   "source": [
    "scipy.stats.chisquare modulu aynı hesabın yapılması"
   ]
  },
  {
   "cell_type": "code",
   "execution_count": 119,
   "metadata": {},
   "outputs": [],
   "source": [
    "levels, counts = np.unique(gift_type, return_counts=True)"
   ]
  },
  {
   "cell_type": "code",
   "execution_count": 121,
   "metadata": {},
   "outputs": [
    {
     "data": {
      "text/plain": [
       "Power_divergenceResult(statistic=np.float64(6.166666666666666), pvalue=np.float64(0.04580631417262148))"
      ]
     },
     "execution_count": 121,
     "metadata": {},
     "output_type": "execute_result"
    }
   ],
   "source": [
    "# yukardaki count icin chisquare hesaplayalım\n",
    "\n",
    "test = stats.chisquare(counts)\n",
    "test"
   ]
  },
  {
   "cell_type": "code",
   "execution_count": 122,
   "metadata": {},
   "outputs": [
    {
     "data": {
      "text/plain": [
       "Power_divergenceResult(statistic=np.float64(6.166666666666666), pvalue=np.float64(0.04580631417262148))"
      ]
     },
     "execution_count": 122,
     "metadata": {},
     "output_type": "execute_result"
    }
   ],
   "source": [
    "# yukardaki sonucu bu sekilde de bulaiblilriz\n",
    "\n",
    "est = stats.chisquare([320,265,315])\n",
    "est"
   ]
  },
  {
   "cell_type": "code",
   "execution_count": 123,
   "metadata": {},
   "outputs": [
    {
     "name": "stdout",
     "output_type": "stream",
     "text": [
      "Statistics=6.167, p=0.046\n",
      "there is a significant difference between the observed and the theoretical distribution (reject H0)\n"
     ]
    }
   ],
   "source": [
    "#hipotezin sonucunu yazdıralım\n",
    "\n",
    "print('Statistics=%.3f, p=%.3f' % (test.statistic, test.pvalue))\n",
    "# interpret\n",
    "alpha = 0.05\n",
    "if test.pvalue > alpha:\n",
    "\tprint('there is no significant difference between the observed and the theoretical distribution (fail to reject H0)')\n",
    "else:\n",
    "\tprint('there is a significant difference between the observed and the theoretical distribution (reject H0)')"
   ]
  },
  {
   "cell_type": "markdown",
   "metadata": {},
   "source": []
  },
  {
   "cell_type": "markdown",
   "metadata": {},
   "source": [
    "Chi-Square Test of Association (Test of Independence)"
   ]
  },
  {
   "cell_type": "markdown",
   "metadata": {},
   "source": [
    "2 kategorik veri olacak..  bu kategoriler birbirinden bagımsız mı ?\n",
    "2 kategorik data arasındaki ilişki için ise Chi-Square association bakılır\n",
    "\n",
    "Problem: Veri setinde, katılımcılara cinsiyetleri ve sigara içip içmedikleri sorulmuştur. Üç cevap seçeneği vardı: Sigara İçmeyen, Geçmişte sigara içen ve Halen sigara içen. Sigara içme davranışı (sigara içmeyen, halen sigara içen veya geçmişte sigara içen) ile cinsiyet (erkek veya kadın) arasındaki ilişkiyi Ki-Kare Bağımsızlık Testi kullanarak test etmek istediğimizi varsayalım (α = 0.05 kullanacağız).\n"
   ]
  },
  {
   "cell_type": "code",
   "execution_count": 129,
   "metadata": {},
   "outputs": [
    {
     "data": {
      "text/html": [
       "<div>\n",
       "<style scoped>\n",
       "    .dataframe tbody tr th:only-of-type {\n",
       "        vertical-align: middle;\n",
       "    }\n",
       "\n",
       "    .dataframe tbody tr th {\n",
       "        vertical-align: top;\n",
       "    }\n",
       "\n",
       "    .dataframe thead th {\n",
       "        text-align: right;\n",
       "    }\n",
       "</style>\n",
       "<table border=\"1\" class=\"dataframe\">\n",
       "  <thead>\n",
       "    <tr style=\"text-align: right;\">\n",
       "      <th></th>\n",
       "      <th>ids</th>\n",
       "      <th>bday</th>\n",
       "      <th>enrolldate</th>\n",
       "      <th>expgradate</th>\n",
       "      <th>Rank</th>\n",
       "      <th>Major</th>\n",
       "      <th>Gender</th>\n",
       "      <th>Athlete</th>\n",
       "      <th>Height</th>\n",
       "      <th>Weight</th>\n",
       "      <th>...</th>\n",
       "      <th>English</th>\n",
       "      <th>Reading</th>\n",
       "      <th>Math</th>\n",
       "      <th>Writing</th>\n",
       "      <th>State</th>\n",
       "      <th>LiveOnCampus</th>\n",
       "      <th>HowCommute</th>\n",
       "      <th>CommuteTime</th>\n",
       "      <th>SleepTime</th>\n",
       "      <th>StudyTime</th>\n",
       "    </tr>\n",
       "  </thead>\n",
       "  <tbody>\n",
       "    <tr>\n",
       "      <th>0</th>\n",
       "      <td>43783</td>\n",
       "      <td>3/22/1995</td>\n",
       "      <td></td>\n",
       "      <td></td>\n",
       "      <td></td>\n",
       "      <td></td>\n",
       "      <td>0</td>\n",
       "      <td>0</td>\n",
       "      <td>72.35</td>\n",
       "      <td></td>\n",
       "      <td>...</td>\n",
       "      <td>88.24</td>\n",
       "      <td>81.5</td>\n",
       "      <td>60.02</td>\n",
       "      <td>81.44</td>\n",
       "      <td>In state</td>\n",
       "      <td>1</td>\n",
       "      <td></td>\n",
       "      <td></td>\n",
       "      <td>7</td>\n",
       "      <td>1</td>\n",
       "    </tr>\n",
       "    <tr>\n",
       "      <th>1</th>\n",
       "      <td>20278</td>\n",
       "      <td>1/1/1995</td>\n",
       "      <td></td>\n",
       "      <td></td>\n",
       "      <td></td>\n",
       "      <td>Philosophy</td>\n",
       "      <td>0</td>\n",
       "      <td>0</td>\n",
       "      <td>70.66</td>\n",
       "      <td>179.2</td>\n",
       "      <td>...</td>\n",
       "      <td>89.45</td>\n",
       "      <td>85.25</td>\n",
       "      <td>70.19</td>\n",
       "      <td>73.27</td>\n",
       "      <td></td>\n",
       "      <td>1</td>\n",
       "      <td></td>\n",
       "      <td></td>\n",
       "      <td>5</td>\n",
       "      <td>2</td>\n",
       "    </tr>\n",
       "    <tr>\n",
       "      <th>2</th>\n",
       "      <td>20389</td>\n",
       "      <td>12/31/1994</td>\n",
       "      <td></td>\n",
       "      <td></td>\n",
       "      <td></td>\n",
       "      <td></td>\n",
       "      <td>0</td>\n",
       "      <td>0</td>\n",
       "      <td>70.68</td>\n",
       "      <td>198.52</td>\n",
       "      <td>...</td>\n",
       "      <td>96.73</td>\n",
       "      <td>86.88</td>\n",
       "      <td>71.2</td>\n",
       "      <td>84.24</td>\n",
       "      <td>In state</td>\n",
       "      <td></td>\n",
       "      <td></td>\n",
       "      <td></td>\n",
       "      <td>8</td>\n",
       "      <td>7</td>\n",
       "    </tr>\n",
       "    <tr>\n",
       "      <th>3</th>\n",
       "      <td>22820</td>\n",
       "      <td>12/1/1994</td>\n",
       "      <td></td>\n",
       "      <td></td>\n",
       "      <td></td>\n",
       "      <td>business administration</td>\n",
       "      <td>1</td>\n",
       "      <td>0</td>\n",
       "      <td></td>\n",
       "      <td>198.34</td>\n",
       "      <td>...</td>\n",
       "      <td>74.06</td>\n",
       "      <td>88.68</td>\n",
       "      <td>55.89</td>\n",
       "      <td>73.16</td>\n",
       "      <td>In state</td>\n",
       "      <td>1</td>\n",
       "      <td></td>\n",
       "      <td></td>\n",
       "      <td>2</td>\n",
       "      <td>6</td>\n",
       "    </tr>\n",
       "    <tr>\n",
       "      <th>4</th>\n",
       "      <td>24559</td>\n",
       "      <td>11/10/1994</td>\n",
       "      <td></td>\n",
       "      <td></td>\n",
       "      <td></td>\n",
       "      <td></td>\n",
       "      <td>1</td>\n",
       "      <td>1</td>\n",
       "      <td>67.43</td>\n",
       "      <td>128.17</td>\n",
       "      <td>...</td>\n",
       "      <td>82.61</td>\n",
       "      <td>77.3</td>\n",
       "      <td>65.52</td>\n",
       "      <td>80.45</td>\n",
       "      <td>Out of state</td>\n",
       "      <td>1</td>\n",
       "      <td></td>\n",
       "      <td></td>\n",
       "      <td>7</td>\n",
       "      <td>3</td>\n",
       "    </tr>\n",
       "  </tbody>\n",
       "</table>\n",
       "<p>5 rows × 23 columns</p>\n",
       "</div>"
      ],
      "text/plain": [
       "     ids        bday enrolldate expgradate Rank                    Major  \\\n",
       "0  43783   3/22/1995                                                       \n",
       "1  20278    1/1/1995                                          Philosophy   \n",
       "2  20389  12/31/1994                                                       \n",
       "3  22820   12/1/1994                             business administration   \n",
       "4  24559  11/10/1994                                                       \n",
       "\n",
       "  Gender  Athlete Height  Weight  ... English Reading   Math Writing  \\\n",
       "0      0        0  72.35          ...   88.24    81.5  60.02   81.44   \n",
       "1      0        0  70.66   179.2  ...   89.45   85.25  70.19   73.27   \n",
       "2      0        0  70.68  198.52  ...   96.73   86.88   71.2   84.24   \n",
       "3      1        0         198.34  ...   74.06   88.68  55.89   73.16   \n",
       "4      1        1  67.43  128.17  ...   82.61    77.3  65.52   80.45   \n",
       "\n",
       "          State LiveOnCampus HowCommute CommuteTime SleepTime StudyTime  \n",
       "0      In state            1                                7         1  \n",
       "1                          1                                5         2  \n",
       "2      In state                                             8         7  \n",
       "3      In state            1                                2         6  \n",
       "4  Out of state            1                                7         3  \n",
       "\n",
       "[5 rows x 23 columns]"
      ]
     },
     "execution_count": 129,
     "metadata": {},
     "output_type": "execute_result"
    }
   ],
   "source": [
    "survey = pd.read_csv(\"C:/Users/Lenovo/Downloads/university_survey_2014.csv\")  \n",
    "survey.head()"
   ]
  },
  {
   "cell_type": "code",
   "execution_count": 124,
   "metadata": {},
   "outputs": [],
   "source": [
    "# smokinhg behaviour ile gender sütunları arasındaki ilişkiye bakacağız"
   ]
  },
  {
   "cell_type": "code",
   "execution_count": 130,
   "metadata": {},
   "outputs": [
    {
     "data": {
      "text/html": [
       "<div>\n",
       "<style scoped>\n",
       "    .dataframe tbody tr th:only-of-type {\n",
       "        vertical-align: middle;\n",
       "    }\n",
       "\n",
       "    .dataframe tbody tr th {\n",
       "        vertical-align: top;\n",
       "    }\n",
       "\n",
       "    .dataframe thead th {\n",
       "        text-align: right;\n",
       "    }\n",
       "</style>\n",
       "<table border=\"1\" class=\"dataframe\">\n",
       "  <thead>\n",
       "    <tr style=\"text-align: right;\">\n",
       "      <th></th>\n",
       "      <th>Gender</th>\n",
       "      <th>Smoking</th>\n",
       "    </tr>\n",
       "  </thead>\n",
       "  <tbody>\n",
       "    <tr>\n",
       "      <th>0</th>\n",
       "      <td>0</td>\n",
       "      <td>0</td>\n",
       "    </tr>\n",
       "    <tr>\n",
       "      <th>1</th>\n",
       "      <td>0</td>\n",
       "      <td>0</td>\n",
       "    </tr>\n",
       "    <tr>\n",
       "      <th>2</th>\n",
       "      <td>0</td>\n",
       "      <td>0</td>\n",
       "    </tr>\n",
       "    <tr>\n",
       "      <th>3</th>\n",
       "      <td>1</td>\n",
       "      <td></td>\n",
       "    </tr>\n",
       "    <tr>\n",
       "      <th>4</th>\n",
       "      <td>1</td>\n",
       "      <td>2</td>\n",
       "    </tr>\n",
       "    <tr>\n",
       "      <th>...</th>\n",
       "      <td>...</td>\n",
       "      <td>...</td>\n",
       "    </tr>\n",
       "    <tr>\n",
       "      <th>430</th>\n",
       "      <td>1</td>\n",
       "      <td>0</td>\n",
       "    </tr>\n",
       "    <tr>\n",
       "      <th>431</th>\n",
       "      <td>0</td>\n",
       "      <td>0</td>\n",
       "    </tr>\n",
       "    <tr>\n",
       "      <th>432</th>\n",
       "      <td>0</td>\n",
       "      <td>0</td>\n",
       "    </tr>\n",
       "    <tr>\n",
       "      <th>433</th>\n",
       "      <td>1</td>\n",
       "      <td>2</td>\n",
       "    </tr>\n",
       "    <tr>\n",
       "      <th>434</th>\n",
       "      <td>1</td>\n",
       "      <td>1</td>\n",
       "    </tr>\n",
       "  </tbody>\n",
       "</table>\n",
       "<p>435 rows × 2 columns</p>\n",
       "</div>"
      ],
      "text/plain": [
       "    Gender Smoking\n",
       "0        0       0\n",
       "1        0       0\n",
       "2        0       0\n",
       "3        1        \n",
       "4        1       2\n",
       "..     ...     ...\n",
       "430      1       0\n",
       "431      0       0\n",
       "432      0       0\n",
       "433      1       2\n",
       "434      1       1\n",
       "\n",
       "[435 rows x 2 columns]"
      ]
     },
     "execution_count": 130,
     "metadata": {},
     "output_type": "execute_result"
    }
   ],
   "source": [
    "testset = survey[[\"Gender\", \"Smoking\"]]\n",
    "testset"
   ]
  },
  {
   "cell_type": "code",
   "execution_count": 131,
   "metadata": {},
   "outputs": [
    {
     "name": "stderr",
     "output_type": "stream",
     "text": [
      "C:\\Users\\Lenovo\\AppData\\Local\\Temp\\ipykernel_6328\\3234983263.py:3: SettingWithCopyWarning: \n",
      "A value is trying to be set on a copy of a slice from a DataFrame.\n",
      "Try using .loc[row_indexer,col_indexer] = value instead\n",
      "\n",
      "See the caveats in the documentation: https://pandas.pydata.org/pandas-docs/stable/user_guide/indexing.html#returning-a-view-versus-a-copy\n",
      "  testset[\"Gender\"] = pd.to_numeric(testset[\"Gender\"],errors='coerce')\n",
      "C:\\Users\\Lenovo\\AppData\\Local\\Temp\\ipykernel_6328\\3234983263.py:4: SettingWithCopyWarning: \n",
      "A value is trying to be set on a copy of a slice from a DataFrame.\n",
      "Try using .loc[row_indexer,col_indexer] = value instead\n",
      "\n",
      "See the caveats in the documentation: https://pandas.pydata.org/pandas-docs/stable/user_guide/indexing.html#returning-a-view-versus-a-copy\n",
      "  testset[\"Smoking\"] = pd.to_numeric(testset[\"Smoking\"],errors='coerce')\n"
     ]
    }
   ],
   "source": [
    "# smoking ve gender object type oldukları için numeric dataya cevirelim\n",
    "\n",
    "testset[\"Gender\"] = pd.to_numeric(testset[\"Gender\"],errors='coerce')\n",
    "testset[\"Smoking\"] = pd.to_numeric(testset[\"Smoking\"],errors='coerce')"
   ]
  },
  {
   "cell_type": "code",
   "execution_count": 132,
   "metadata": {},
   "outputs": [
    {
     "name": "stderr",
     "output_type": "stream",
     "text": [
      "C:\\Users\\Lenovo\\AppData\\Local\\Temp\\ipykernel_6328\\875698694.py:3: SettingWithCopyWarning: \n",
      "A value is trying to be set on a copy of a slice from a DataFrame.\n",
      "Try using .loc[row_indexer,col_indexer] = value instead\n",
      "\n",
      "See the caveats in the documentation: https://pandas.pydata.org/pandas-docs/stable/user_guide/indexing.html#returning-a-view-versus-a-copy\n",
      "  testset[\"Smoking\"] = testset[\"Smoking\"].replace([0,1,2],[\"Nonsmoker\", \"Past smoker\",\"Current smoker\"])\n"
     ]
    },
    {
     "data": {
      "text/plain": [
       "0           Nonsmoker\n",
       "1           Nonsmoker\n",
       "2           Nonsmoker\n",
       "3                 NaN\n",
       "4      Current smoker\n",
       "            ...      \n",
       "430         Nonsmoker\n",
       "431         Nonsmoker\n",
       "432         Nonsmoker\n",
       "433    Current smoker\n",
       "434       Past smoker\n",
       "Name: Smoking, Length: 435, dtype: object"
      ]
     },
     "execution_count": 132,
     "metadata": {},
     "output_type": "execute_result"
    }
   ],
   "source": [
    "# smoking deki kategorileri degiselim\n",
    "\n",
    "testset[\"Smoking\"] = testset[\"Smoking\"].replace([0,1,2],[\"Nonsmoker\", \"Past smoker\",\"Current smoker\"])\n",
    "testset[\"Smoking\"]"
   ]
  },
  {
   "cell_type": "code",
   "execution_count": 133,
   "metadata": {},
   "outputs": [
    {
     "name": "stderr",
     "output_type": "stream",
     "text": [
      "C:\\Users\\Lenovo\\AppData\\Local\\Temp\\ipykernel_6328\\1590591299.py:3: SettingWithCopyWarning: \n",
      "A value is trying to be set on a copy of a slice from a DataFrame.\n",
      "Try using .loc[row_indexer,col_indexer] = value instead\n",
      "\n",
      "See the caveats in the documentation: https://pandas.pydata.org/pandas-docs/stable/user_guide/indexing.html#returning-a-view-versus-a-copy\n",
      "  testset[\"Gender\"] = testset[\"Gender\"].replace([0, 1],[\"Male\", \"Female\"])\n"
     ]
    },
    {
     "data": {
      "text/plain": [
       "0        Male\n",
       "1        Male\n",
       "2        Male\n",
       "3      Female\n",
       "4      Female\n",
       "        ...  \n",
       "430    Female\n",
       "431      Male\n",
       "432      Male\n",
       "433    Female\n",
       "434    Female\n",
       "Name: Gender, Length: 435, dtype: object"
      ]
     },
     "execution_count": 133,
     "metadata": {},
     "output_type": "execute_result"
    }
   ],
   "source": [
    "#gender kategorisini degisleim\n",
    "\n",
    "testset[\"Gender\"] = testset[\"Gender\"].replace([0, 1],[\"Male\", \"Female\"])\n",
    "\n",
    "testset[\"Gender\"]"
   ]
  },
  {
   "cell_type": "code",
   "execution_count": 134,
   "metadata": {},
   "outputs": [
    {
     "data": {
      "text/html": [
       "<div>\n",
       "<style scoped>\n",
       "    .dataframe tbody tr th:only-of-type {\n",
       "        vertical-align: middle;\n",
       "    }\n",
       "\n",
       "    .dataframe tbody tr th {\n",
       "        vertical-align: top;\n",
       "    }\n",
       "\n",
       "    .dataframe thead th {\n",
       "        text-align: right;\n",
       "    }\n",
       "</style>\n",
       "<table border=\"1\" class=\"dataframe\">\n",
       "  <thead>\n",
       "    <tr style=\"text-align: right;\">\n",
       "      <th>Gender</th>\n",
       "      <th>Female</th>\n",
       "      <th>Male</th>\n",
       "    </tr>\n",
       "    <tr>\n",
       "      <th>Smoking</th>\n",
       "      <th></th>\n",
       "      <th></th>\n",
       "    </tr>\n",
       "  </thead>\n",
       "  <tbody>\n",
       "    <tr>\n",
       "      <th>Current smoker</th>\n",
       "      <td>37</td>\n",
       "      <td>31</td>\n",
       "    </tr>\n",
       "    <tr>\n",
       "      <th>Nonsmoker</th>\n",
       "      <td>148</td>\n",
       "      <td>149</td>\n",
       "    </tr>\n",
       "    <tr>\n",
       "      <th>Past smoker</th>\n",
       "      <td>24</td>\n",
       "      <td>13</td>\n",
       "    </tr>\n",
       "  </tbody>\n",
       "</table>\n",
       "</div>"
      ],
      "text/plain": [
       "Gender          Female  Male\n",
       "Smoking                     \n",
       "Current smoker      37    31\n",
       "Nonsmoker          148   149\n",
       "Past smoker         24    13"
      ]
     },
     "execution_count": 134,
     "metadata": {},
     "output_type": "execute_result"
    }
   ],
   "source": [
    "# crosstab ın kılsayması olarak carpraz tabloyu kullanmıs olalım\n",
    "\n",
    "ct = pd.crosstab(testset[\"Smoking\"], testset[\"Gender\"], margins=False)\n",
    "ct"
   ]
  },
  {
   "cell_type": "code",
   "execution_count": 135,
   "metadata": {},
   "outputs": [
    {
     "data": {
      "image/png": "[encoded data removed]",
      "text/plain": [
       "<Figure size 640x480 with 1 Axes>"
      ]
     },
     "metadata": {},
     "output_type": "display_data"
    }
   ],
   "source": [
    "# tabloyu grafize edelim\n",
    "\n",
    "stacked = ct.stack().reset_index().rename(columns={0:'value'})\n",
    "sns.barplot(x=stacked.Smoking, y=stacked.value, hue=stacked.Gender);"
   ]
  },
  {
   "cell_type": "code",
   "execution_count": 137,
   "metadata": {},
   "outputs": [],
   "source": [
    "#Manual Hesap\n",
    "\n",
    "# ilk tablo observed degerler"
   ]
  },
  {
   "attachments": {
    "image.png": {
     "image/png": "[encoded data removed]"
    }
   },
   "cell_type": "markdown",
   "metadata": {},
   "source": [
    "![image.png](attachment:image.png)"
   ]
  },
  {
   "cell_type": "code",
   "execution_count": 125,
   "metadata": {},
   "outputs": [],
   "source": [
    "# 2. tablo ise expected value.. "
   ]
  },
  {
   "attachments": {
    "image.png": {
     "image/png": "[encoded data removed]"
    }
   },
   "cell_type": "markdown",
   "metadata": {},
   "source": [
    "![image.png](attachment:image.png)"
   ]
  },
  {
   "cell_type": "code",
   "execution_count": 126,
   "metadata": {},
   "outputs": [],
   "source": [
    "# 3. tabloda kikare hesabını yapıyoruz..exp valu eve observed value arası farkı gorelim\n",
    "# alttaki kikare hesabında 3.tablodaki degerler toplanır\n"
   ]
  },
  {
   "attachments": {
    "image.png": {
     "image/png": "[encoded data removed]"
    }
   },
   "cell_type": "markdown",
   "metadata": {},
   "source": [
    "![image.png](attachment:image.png)\n",
    "\n",
    "χ2 = 0.077+0.266+1.18+0.083+0.288+1.277 = 3.171"
   ]
  },
  {
   "cell_type": "code",
   "execution_count": 138,
   "metadata": {},
   "outputs": [
    {
     "data": {
      "text/plain": [
       "np.float64(0.20484534483444383)"
      ]
     },
     "execution_count": 138,
     "metadata": {},
     "output_type": "execute_result"
    }
   ],
   "source": [
    "# alttaki fonksiyonda parantez içinde ilk değer kikare, 2.değer ise df yani k değeri..\n",
    "# k --> (row sayısı -1)*(kolumn sayısı-1) = 2\n",
    "# p-value\n",
    "\n",
    "1 - stats.chi2.cdf(3.171, 2)"
   ]
  },
  {
   "cell_type": "code",
   "execution_count": 139,
   "metadata": {},
   "outputs": [
    {
     "data": {
      "text/html": [
       "<div>\n",
       "<style scoped>\n",
       "    .dataframe tbody tr th:only-of-type {\n",
       "        vertical-align: middle;\n",
       "    }\n",
       "\n",
       "    .dataframe tbody tr th {\n",
       "        vertical-align: top;\n",
       "    }\n",
       "\n",
       "    .dataframe thead th {\n",
       "        text-align: right;\n",
       "    }\n",
       "</style>\n",
       "<table border=\"1\" class=\"dataframe\">\n",
       "  <thead>\n",
       "    <tr style=\"text-align: right;\">\n",
       "      <th>Gender</th>\n",
       "      <th>Female</th>\n",
       "      <th>Male</th>\n",
       "    </tr>\n",
       "    <tr>\n",
       "      <th>Smoking</th>\n",
       "      <th></th>\n",
       "      <th></th>\n",
       "    </tr>\n",
       "  </thead>\n",
       "  <tbody>\n",
       "    <tr>\n",
       "      <th>Current smoker</th>\n",
       "      <td>37</td>\n",
       "      <td>31</td>\n",
       "    </tr>\n",
       "    <tr>\n",
       "      <th>Nonsmoker</th>\n",
       "      <td>148</td>\n",
       "      <td>149</td>\n",
       "    </tr>\n",
       "    <tr>\n",
       "      <th>Past smoker</th>\n",
       "      <td>24</td>\n",
       "      <td>13</td>\n",
       "    </tr>\n",
       "  </tbody>\n",
       "</table>\n",
       "</div>"
      ],
      "text/plain": [
       "Gender          Female  Male\n",
       "Smoking                     \n",
       "Current smoker      37    31\n",
       "Nonsmoker          148   149\n",
       "Past smoker         24    13"
      ]
     },
     "execution_count": 139,
     "metadata": {},
     "output_type": "execute_result"
    }
   ],
   "source": [
    "ct"
   ]
  },
  {
   "cell_type": "code",
   "execution_count": 140,
   "metadata": {},
   "outputs": [],
   "source": [
    "# ilave bir çözüm olarak aynı p degerini ct table ı kullanarak yapaibliriz\n",
    "\n",
    "chi, p, dof, expctd = stats.chi2_contingency(ct)"
   ]
  },
  {
   "cell_type": "code",
   "execution_count": 141,
   "metadata": {},
   "outputs": [
    {
     "name": "stdout",
     "output_type": "stream",
     "text": [
      "statistic: 3.171256766693158\n",
      "p value: 0.20481904779163018\n"
     ]
    }
   ],
   "source": [
    "print(\"statistic:\", chi)\n",
    "print(\"p value:\", p)"
   ]
  },
  {
   "cell_type": "code",
   "execution_count": 142,
   "metadata": {},
   "outputs": [],
   "source": [
    "\n",
    "\n",
    "# 0.204 > alfa=0.05 oldugu için null hipotezi reddetmiyoruz, kabul ediyoruz\n",
    "\n",
    "# Cinsiyet ile sigara içme davranışı arasında ilişki bulunamadı\n",
    "\n"
   ]
  },
  {
   "cell_type": "code",
   "execution_count": null,
   "metadata": {},
   "outputs": [],
   "source": []
  }
 ],
 "metadata": {
  "kernelspec": {
   "display_name": "Python 3",
   "language": "python",
   "name": "python3"
  },
  "language_info": {
   "codemirror_mode": {
    "name": "ipython",
    "version": 3
   },
   "file_extension": ".py",
   "mimetype": "text/x-python",
   "name": "python",
   "nbconvert_exporter": "python",
   "pygments_lexer": "ipython3",
   "version": "3.12.6"
  }
 },
 "nbformat": 4,
 "nbformat_minor": 2
}
