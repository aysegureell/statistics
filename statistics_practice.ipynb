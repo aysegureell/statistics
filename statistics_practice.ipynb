{
 "cells": [
  {
   "cell_type": "markdown",
   "metadata": {},
   "source": [
    "# Data Science & Statistics Practice\n",
    "\n",
    "This notebook provides an overview of key statistical concepts with Python code examples using the Seaborn tips dataset. The topics covered include:\n",
    "\n",
    "* Exploratory Data Analysis (EDA)\n",
    "* Descriptive Statistics\n",
    "* Probability Theory and Distributions\n",
    "* Hypothesis Testing"
   ]
  },
  {
   "cell_type": "markdown",
   "metadata": {},
   "source": [
    "## 1. Exploratory Data Analysis (EDA)\n",
    "### 1.1 Data Visualization\n",
    "Data visualization is essential to explore and understand the structure of data. Below is an example using scatter plot and boxplot to visualize relationships in the dataset."
   ]
  },
  {
   "cell_type": "code",
   "execution_count": null,
   "metadata": {},
   "outputs": [],
   "source": [
    "import seaborn as sns\n",
    "import matplotlib.pyplot as plt\n",
    "import pandas as pd\n",
    "import numpy as np\n",
    "from scipy import stats\n",
    "import warnings\n",
    "warnings.filterwarnings('ignore')"
   ]
  },
  {
   "cell_type": "code",
   "execution_count": 4,
   "metadata": {},
   "outputs": [
    {
     "data": {
      "text/html": [
       "<div>\n",
       "<style scoped>\n",
       "    .dataframe tbody tr th:only-of-type {\n",
       "        vertical-align: middle;\n",
       "    }\n",
       "\n",
       "    .dataframe tbody tr th {\n",
       "        vertical-align: top;\n",
       "    }\n",
       "\n",
       "    .dataframe thead th {\n",
       "        text-align: right;\n",
       "    }\n",
       "</style>\n",
       "<table border=\"1\" class=\"dataframe\">\n",
       "  <thead>\n",
       "    <tr style=\"text-align: right;\">\n",
       "      <th></th>\n",
       "      <th>total_bill</th>\n",
       "      <th>tip</th>\n",
       "      <th>sex</th>\n",
       "      <th>smoker</th>\n",
       "      <th>day</th>\n",
       "      <th>time</th>\n",
       "      <th>size</th>\n",
       "    </tr>\n",
       "  </thead>\n",
       "  <tbody>\n",
       "    <tr>\n",
       "      <th>0</th>\n",
       "      <td>16.99</td>\n",
       "      <td>1.01</td>\n",
       "      <td>Female</td>\n",
       "      <td>No</td>\n",
       "      <td>Sun</td>\n",
       "      <td>Dinner</td>\n",
       "      <td>2</td>\n",
       "    </tr>\n",
       "    <tr>\n",
       "      <th>1</th>\n",
       "      <td>10.34</td>\n",
       "      <td>1.66</td>\n",
       "      <td>Male</td>\n",
       "      <td>No</td>\n",
       "      <td>Sun</td>\n",
       "      <td>Dinner</td>\n",
       "      <td>3</td>\n",
       "    </tr>\n",
       "    <tr>\n",
       "      <th>2</th>\n",
       "      <td>21.01</td>\n",
       "      <td>3.50</td>\n",
       "      <td>Male</td>\n",
       "      <td>No</td>\n",
       "      <td>Sun</td>\n",
       "      <td>Dinner</td>\n",
       "      <td>3</td>\n",
       "    </tr>\n",
       "    <tr>\n",
       "      <th>3</th>\n",
       "      <td>23.68</td>\n",
       "      <td>3.31</td>\n",
       "      <td>Male</td>\n",
       "      <td>No</td>\n",
       "      <td>Sun</td>\n",
       "      <td>Dinner</td>\n",
       "      <td>2</td>\n",
       "    </tr>\n",
       "    <tr>\n",
       "      <th>4</th>\n",
       "      <td>24.59</td>\n",
       "      <td>3.61</td>\n",
       "      <td>Female</td>\n",
       "      <td>No</td>\n",
       "      <td>Sun</td>\n",
       "      <td>Dinner</td>\n",
       "      <td>4</td>\n",
       "    </tr>\n",
       "  </tbody>\n",
       "</table>\n",
       "</div>"
      ],
      "text/plain": [
       "   total_bill   tip     sex smoker  day    time  size\n",
       "0       16.99  1.01  Female     No  Sun  Dinner     2\n",
       "1       10.34  1.66    Male     No  Sun  Dinner     3\n",
       "2       21.01  3.50    Male     No  Sun  Dinner     3\n",
       "3       23.68  3.31    Male     No  Sun  Dinner     2\n",
       "4       24.59  3.61  Female     No  Sun  Dinner     4"
      ]
     },
     "execution_count": 4,
     "metadata": {},
     "output_type": "execute_result"
    }
   ],
   "source": [
    "# Load the tips dataset\n",
    "df = sns.load_dataset('tips')\n",
    "df.head()"
   ]
  },
  {
   "cell_type": "code",
   "execution_count": 5,
   "metadata": {},
   "outputs": [
    {
     "name": "stdout",
     "output_type": "stream",
     "text": [
      "<class 'pandas.core.frame.DataFrame'>\n",
      "RangeIndex: 244 entries, 0 to 243\n",
      "Data columns (total 7 columns):\n",
      " #   Column      Non-Null Count  Dtype   \n",
      "---  ------      --------------  -----   \n",
      " 0   total_bill  244 non-null    float64 \n",
      " 1   tip         244 non-null    float64 \n",
      " 2   sex         244 non-null    category\n",
      " 3   smoker      244 non-null    category\n",
      " 4   day         244 non-null    category\n",
      " 5   time        244 non-null    category\n",
      " 6   size        244 non-null    int64   \n",
      "dtypes: category(4), float64(2), int64(1)\n",
      "memory usage: 7.4 KB\n"
     ]
    }
   ],
   "source": [
    "df.info()"
   ]
  },
  {
   "cell_type": "code",
   "execution_count": 6,
   "metadata": {},
   "outputs": [
    {
     "data": {
      "text/html": [
       "<div>\n",
       "<style scoped>\n",
       "    .dataframe tbody tr th:only-of-type {\n",
       "        vertical-align: middle;\n",
       "    }\n",
       "\n",
       "    .dataframe tbody tr th {\n",
       "        vertical-align: top;\n",
       "    }\n",
       "\n",
       "    .dataframe thead th {\n",
       "        text-align: right;\n",
       "    }\n",
       "</style>\n",
       "<table border=\"1\" class=\"dataframe\">\n",
       "  <thead>\n",
       "    <tr style=\"text-align: right;\">\n",
       "      <th></th>\n",
       "      <th>count</th>\n",
       "      <th>mean</th>\n",
       "      <th>std</th>\n",
       "      <th>min</th>\n",
       "      <th>25%</th>\n",
       "      <th>50%</th>\n",
       "      <th>75%</th>\n",
       "      <th>max</th>\n",
       "    </tr>\n",
       "  </thead>\n",
       "  <tbody>\n",
       "    <tr>\n",
       "      <th>total_bill</th>\n",
       "      <td>244.0</td>\n",
       "      <td>19.785943</td>\n",
       "      <td>8.902412</td>\n",
       "      <td>3.07</td>\n",
       "      <td>13.3475</td>\n",
       "      <td>17.795</td>\n",
       "      <td>24.1275</td>\n",
       "      <td>50.81</td>\n",
       "    </tr>\n",
       "    <tr>\n",
       "      <th>tip</th>\n",
       "      <td>244.0</td>\n",
       "      <td>2.998279</td>\n",
       "      <td>1.383638</td>\n",
       "      <td>1.00</td>\n",
       "      <td>2.0000</td>\n",
       "      <td>2.900</td>\n",
       "      <td>3.5625</td>\n",
       "      <td>10.00</td>\n",
       "    </tr>\n",
       "    <tr>\n",
       "      <th>size</th>\n",
       "      <td>244.0</td>\n",
       "      <td>2.569672</td>\n",
       "      <td>0.951100</td>\n",
       "      <td>1.00</td>\n",
       "      <td>2.0000</td>\n",
       "      <td>2.000</td>\n",
       "      <td>3.0000</td>\n",
       "      <td>6.00</td>\n",
       "    </tr>\n",
       "  </tbody>\n",
       "</table>\n",
       "</div>"
      ],
      "text/plain": [
       "            count       mean       std   min      25%     50%      75%    max\n",
       "total_bill  244.0  19.785943  8.902412  3.07  13.3475  17.795  24.1275  50.81\n",
       "tip         244.0   2.998279  1.383638  1.00   2.0000   2.900   3.5625  10.00\n",
       "size        244.0   2.569672  0.951100  1.00   2.0000   2.000   3.0000   6.00"
      ]
     },
     "execution_count": 6,
     "metadata": {},
     "output_type": "execute_result"
    }
   ],
   "source": [
    "df.describe().T"
   ]
  },
  {
   "cell_type": "code",
   "execution_count": 7,
   "metadata": {},
   "outputs": [
    {
     "data": {
      "text/html": [
       "<div>\n",
       "<style scoped>\n",
       "    .dataframe tbody tr th:only-of-type {\n",
       "        vertical-align: middle;\n",
       "    }\n",
       "\n",
       "    .dataframe tbody tr th {\n",
       "        vertical-align: top;\n",
       "    }\n",
       "\n",
       "    .dataframe thead th {\n",
       "        text-align: right;\n",
       "    }\n",
       "</style>\n",
       "<table border=\"1\" class=\"dataframe\">\n",
       "  <thead>\n",
       "    <tr style=\"text-align: right;\">\n",
       "      <th></th>\n",
       "      <th>count</th>\n",
       "      <th>unique</th>\n",
       "      <th>top</th>\n",
       "      <th>freq</th>\n",
       "    </tr>\n",
       "  </thead>\n",
       "  <tbody>\n",
       "    <tr>\n",
       "      <th>sex</th>\n",
       "      <td>244</td>\n",
       "      <td>2</td>\n",
       "      <td>Male</td>\n",
       "      <td>157</td>\n",
       "    </tr>\n",
       "    <tr>\n",
       "      <th>smoker</th>\n",
       "      <td>244</td>\n",
       "      <td>2</td>\n",
       "      <td>No</td>\n",
       "      <td>151</td>\n",
       "    </tr>\n",
       "    <tr>\n",
       "      <th>day</th>\n",
       "      <td>244</td>\n",
       "      <td>4</td>\n",
       "      <td>Sat</td>\n",
       "      <td>87</td>\n",
       "    </tr>\n",
       "    <tr>\n",
       "      <th>time</th>\n",
       "      <td>244</td>\n",
       "      <td>2</td>\n",
       "      <td>Dinner</td>\n",
       "      <td>176</td>\n",
       "    </tr>\n",
       "  </tbody>\n",
       "</table>\n",
       "</div>"
      ],
      "text/plain": [
       "       count unique     top freq\n",
       "sex      244      2    Male  157\n",
       "smoker   244      2      No  151\n",
       "day      244      4     Sat   87\n",
       "time     244      2  Dinner  176"
      ]
     },
     "execution_count": 7,
     "metadata": {},
     "output_type": "execute_result"
    }
   ],
   "source": [
    "df.describe(include=\"category\").T"
   ]
  },
  {
   "cell_type": "code",
   "execution_count": 8,
   "metadata": {},
   "outputs": [
    {
     "data": {
      "image/png": "[encoded data removed]",
      "text/plain": [
       "<Figure size 640x480 with 1 Axes>"
      ]
     },
     "metadata": {},
     "output_type": "display_data"
    },
    {
     "data": {
      "image/png": "[encoded data removed]",
      "text/plain": [
       "<Figure size 640x480 with 1 Axes>"
      ]
     },
     "metadata": {},
     "output_type": "display_data"
    }
   ],
   "source": [
    "# Scatter plot between total bill and tip\n",
    "sns.scatterplot(x='total_bill', y='tip', data=df)\n",
    "plt.title('Scatter Plot of Total Bill vs Tip')\n",
    "plt.show()\n",
    "\n",
    "# Boxplot for day vs total bill\n",
    "sns.boxplot(x='day', y='total_bill', data=df)\n",
    "plt.title('Boxplot of Day vs Total Bill')\n",
    "plt.show()\n"
   ]
  },
  {
   "cell_type": "code",
   "execution_count": null,
   "metadata": {},
   "outputs": [
    {
     "data": {
      "image/png": "[encoded data removed]",
      "text/plain": [
       "<Figure size 640x480 with 2 Axes>"
      ]
     },
     "metadata": {},
     "output_type": "display_data"
    }
   ],
   "source": [
    "sns.heatmap(df.corr(), annot=True, cmap='coolwarm');"
   ]
  },
  {
   "cell_type": "markdown",
   "metadata": {},
   "source": [
    "### 1.2 Data Cleaning and Preprocessing\n",
    "Data cleaning is an essential step in data analysis. In this section, we will check for missing values and encode categorical variables."
   ]
  },
  {
   "cell_type": "code",
   "execution_count": 9,
   "metadata": {},
   "outputs": [
    {
     "data": {
      "text/plain": [
       "total_bill    0\n",
       "tip           0\n",
       "sex           0\n",
       "smoker        0\n",
       "day           0\n",
       "time          0\n",
       "size          0\n",
       "dtype: int64"
      ]
     },
     "execution_count": 9,
     "metadata": {},
     "output_type": "execute_result"
    }
   ],
   "source": [
    "# Check for missing values\n",
    "df.isnull().sum()"
   ]
  },
  {
   "cell_type": "markdown",
   "metadata": {},
   "source": [
    "The `pandas.get_dummies()` function converts categorical variables (columns with string or categorical data types) into numerical values using the one-hot encoding method."
   ]
  },
  {
   "cell_type": "code",
   "execution_count": null,
   "metadata": {},
   "outputs": [
    {
     "data": {
      "text/html": [
       "<div>\n",
       "<style scoped>\n",
       "    .dataframe tbody tr th:only-of-type {\n",
       "        vertical-align: middle;\n",
       "    }\n",
       "\n",
       "    .dataframe tbody tr th {\n",
       "        vertical-align: top;\n",
       "    }\n",
       "\n",
       "    .dataframe thead th {\n",
       "        text-align: right;\n",
       "    }\n",
       "</style>\n",
       "<table border=\"1\" class=\"dataframe\">\n",
       "  <thead>\n",
       "    <tr style=\"text-align: right;\">\n",
       "      <th></th>\n",
       "      <th>total_bill</th>\n",
       "      <th>tip</th>\n",
       "      <th>smoker</th>\n",
       "      <th>day</th>\n",
       "      <th>time</th>\n",
       "      <th>size</th>\n",
       "      <th>sex_Female</th>\n",
       "    </tr>\n",
       "  </thead>\n",
       "  <tbody>\n",
       "    <tr>\n",
       "      <th>0</th>\n",
       "      <td>16.99</td>\n",
       "      <td>1.01</td>\n",
       "      <td>No</td>\n",
       "      <td>Sun</td>\n",
       "      <td>Dinner</td>\n",
       "      <td>2</td>\n",
       "      <td>1</td>\n",
       "    </tr>\n",
       "    <tr>\n",
       "      <th>1</th>\n",
       "      <td>10.34</td>\n",
       "      <td>1.66</td>\n",
       "      <td>No</td>\n",
       "      <td>Sun</td>\n",
       "      <td>Dinner</td>\n",
       "      <td>3</td>\n",
       "      <td>0</td>\n",
       "    </tr>\n",
       "    <tr>\n",
       "      <th>2</th>\n",
       "      <td>21.01</td>\n",
       "      <td>3.50</td>\n",
       "      <td>No</td>\n",
       "      <td>Sun</td>\n",
       "      <td>Dinner</td>\n",
       "      <td>3</td>\n",
       "      <td>0</td>\n",
       "    </tr>\n",
       "    <tr>\n",
       "      <th>3</th>\n",
       "      <td>23.68</td>\n",
       "      <td>3.31</td>\n",
       "      <td>No</td>\n",
       "      <td>Sun</td>\n",
       "      <td>Dinner</td>\n",
       "      <td>2</td>\n",
       "      <td>0</td>\n",
       "    </tr>\n",
       "    <tr>\n",
       "      <th>4</th>\n",
       "      <td>24.59</td>\n",
       "      <td>3.61</td>\n",
       "      <td>No</td>\n",
       "      <td>Sun</td>\n",
       "      <td>Dinner</td>\n",
       "      <td>4</td>\n",
       "      <td>1</td>\n",
       "    </tr>\n",
       "  </tbody>\n",
       "</table>\n",
       "</div>"
      ],
      "text/plain": [
       "   total_bill   tip smoker  day    time  size  sex_Female\n",
       "0       16.99  1.01     No  Sun  Dinner     2           1\n",
       "1       10.34  1.66     No  Sun  Dinner     3           0\n",
       "2       21.01  3.50     No  Sun  Dinner     3           0\n",
       "3       23.68  3.31     No  Sun  Dinner     2           0\n",
       "4       24.59  3.61     No  Sun  Dinner     4           1"
      ]
     },
     "execution_count": 10,
     "metadata": {},
     "output_type": "execute_result"
    }
   ],
   "source": [
    "\n",
    "# Convert categorical variable 'sex' to dummy variables (numerical)\n",
    "df = pd.get_dummies(df, columns=['sex'], drop_first=True)\n",
    "df.head()\n"
   ]
  },
  {
   "cell_type": "markdown",
   "metadata": {},
   "source": [
    "## 2. Descriptive Statistics\n",
    "### 2.1 Measures of Central Tendency\n",
    "Central tendency refers to the central or typical value in a dataset. Common measures are mean, median, and mode."
   ]
  },
  {
   "cell_type": "code",
   "execution_count": 11,
   "metadata": {},
   "outputs": [
    {
     "name": "stdout",
     "output_type": "stream",
     "text": [
      "Mean Total Bill: 19.78594262295082,\n",
      "Median Total Bill: 17.795,\n",
      "Mode Total Bill: 13.42\n"
     ]
    }
   ],
   "source": [
    "mean_total_bill = df['total_bill'].mean()\n",
    "median_total_bill = df['total_bill'].median()\n",
    "mode_total_bill = df['total_bill'].mode()[0]  # First mode if multiple\n",
    "print(f'Mean Total Bill: {mean_total_bill},\\nMedian Total Bill: {median_total_bill},\\nMode Total Bill: {mode_total_bill}')"
   ]
  },
  {
   "cell_type": "markdown",
   "metadata": {},
   "source": [
    "### 2.2 Measures of Dispersion\n",
    "Dispersion refers to the spread of the data. Common measures include standard deviation, variance, and interquartile range (IQR)."
   ]
  },
  {
   "cell_type": "code",
   "execution_count": 12,
   "metadata": {},
   "outputs": [
    {
     "name": "stdout",
     "output_type": "stream",
     "text": [
      "Standard Deviation: 8.902411954856856, \n",
      "Variance: 79.25293861397827, \n",
      "IQR: 10.779999999999998\n"
     ]
    }
   ],
   "source": [
    "std_total_bill = df['total_bill'].std()\n",
    "variance_total_bill = df['total_bill'].var()\n",
    "q1_total_bill = df['total_bill'].quantile(0.25)\n",
    "q3_total_bill = df['total_bill'].quantile(0.75)\n",
    "iqr_total_bill = q3_total_bill - q1_total_bill\n",
    "print(f'Standard Deviation: {std_total_bill}, \\nVariance: {variance_total_bill}, \\nIQR: {iqr_total_bill}')"
   ]
  },
  {
   "cell_type": "markdown",
   "metadata": {},
   "source": [
    "### 2.3 Correlation and Covariance\n",
    "Correlation measures the linear relationship between two variables, while covariance measures how two variables vary together."
   ]
  },
  {
   "cell_type": "code",
   "execution_count": 13,
   "metadata": {},
   "outputs": [
    {
     "name": "stdout",
     "output_type": "stream",
     "text": [
      "Correlation:\n",
      "             total_bill       tip\n",
      "total_bill    1.000000  0.675734\n",
      "tip           0.675734  1.000000\n",
      "**************************************************\n",
      "Covariance:\n",
      "             total_bill       tip\n",
      "total_bill   79.252939  8.323502\n",
      "tip           8.323502  1.914455\n"
     ]
    }
   ],
   "source": [
    "correlation = df[['total_bill', 'tip']].corr()\n",
    "covariance = df[['total_bill', 'tip']].cov()\n",
    "print('Correlation:\\n', correlation)\n",
    "print(\"*\"*50)\n",
    "print('Covariance:\\n', covariance)"
   ]
  },
  {
   "cell_type": "markdown",
   "metadata": {},
   "source": [
    "## 3. Probability Theory and Distributions\n",
    "### 3.1 Probability Distributions\n",
    "We will simulate random data following different probability distributions such as normal and Poisson."
   ]
  },
  {
   "cell_type": "code",
   "execution_count": 14,
   "metadata": {},
   "outputs": [
    {
     "data": {
      "image/png": "[encoded data removed]",
      "text/plain": [
       "<Figure size 640x480 with 1 Axes>"
      ]
     },
     "metadata": {},
     "output_type": "display_data"
    }
   ],
   "source": [
    "# Normal distribution: Simulating total_bill data\n",
    "total_bill_normal = np.random.normal(mean_total_bill, std_total_bill, 1000)\n",
    "plt.hist(total_bill_normal, bins=30, density=True)\n",
    "plt.title('Normal Distribution of Total Bill')\n",
    "plt.show()\n"
   ]
  },
  {
   "cell_type": "code",
   "execution_count": 15,
   "metadata": {},
   "outputs": [
    {
     "data": {
      "image/png": "[encoded data removed]",
      "text/plain": [
       "<Figure size 640x480 with 1 Axes>"
      ]
     },
     "metadata": {},
     "output_type": "display_data"
    }
   ],
   "source": [
    "# Poisson distribution: Simulating tips using Poisson distribution\n",
    "tip_poisson = np.random.poisson(3, 1000)  # Assume average tip of 3\n",
    "plt.hist(tip_poisson, bins=30, density=True)\n",
    "plt.title('Poisson Distribution of Tips')\n",
    "plt.show()"
   ]
  },
  {
   "cell_type": "markdown",
   "metadata": {},
   "source": [
    "### 3.2 Distribution Parameters Calculation\n",
    "We will calculate the mean and standard deviation for the generated total_bill data."
   ]
  },
  {
   "cell_type": "code",
   "execution_count": 16,
   "metadata": {},
   "outputs": [
    {
     "name": "stdout",
     "output_type": "stream",
     "text": [
      "Mean: 19.740924053765287, \n",
      "Standard Deviation: 9.053014231348552\n"
     ]
    }
   ],
   "source": [
    "mean_norm = np.mean(total_bill_normal)\n",
    "std_norm = np.std(total_bill_normal)\n",
    "print(f'Mean: {mean_norm}, \\nStandard Deviation: {std_norm}')"
   ]
  },
  {
   "cell_type": "markdown",
   "metadata": {},
   "source": [
    "## 4. Hypothesis Testing\n",
    "### 4.1 T-Test for Two Independent Samples\n",
    "A t-test compares the means of two independent groups. \n",
    "\n",
    "Here we will test the difference in total bill between lunch and dinner. \n",
    "\n",
    "The decision to reject or not reject the null hypothesis is based on the p-value. \n",
    "\n",
    "If the p-value is less than 0.05 (α = 0.05), the null hypothesis is rejected, and the alternative hypothesis is accepted.\n",
    "\n"
   ]
  },
  {
   "cell_type": "markdown",
   "metadata": {},
   "source": [
    "#### Null Hypothesis (H₀):  \n",
    "There is no statistically significant difference between the total bills for lunch and dinner. In other words, the mean bills for both groups (Lunch and Dinner) are equal.  \n",
    "\n",
    "#### Alternative Hypothesis (H₁):  \n",
    "There is a statistically significant difference between the total bills for lunch and dinner. In other words, the mean bills for both groups (Lunch and Dinner) are different."
   ]
  },
  {
   "cell_type": "code",
   "execution_count": 17,
   "metadata": {},
   "outputs": [
    {
     "name": "stdout",
     "output_type": "stream",
     "text": [
      "T-Statistic: -2.8976375218366424, \n",
      "P-Value: 0.004104621407595676\n",
      "Reject the null hypothesis\n"
     ]
    }
   ],
   "source": [
    "lunch = df[df['time'] == 'Lunch']['total_bill']\n",
    "dinner = df[df['time'] == 'Dinner']['total_bill']\n",
    "t_stat, p_value = stats.ttest_ind(lunch, dinner)\n",
    "print(f'T-Statistic: {t_stat}, \\nP-Value: {p_value}')\n",
    "if p_value < 0.05:\n",
    "    print('Reject the null hypothesis')\n",
    "else:\n",
    "    print('Fail to reject the null hypothesis')"
   ]
  },
  {
   "cell_type": "code",
   "execution_count": null,
   "metadata": {},
   "outputs": [
    {
     "name": "stdout",
     "output_type": "stream",
     "text": [
      "mean: \n",
      "17.168676470588235\n",
      "20.79715909090909\n",
      "std :\n",
      "7.713881827523049\n",
      "9.142029152544529\n",
      "median:\n",
      "15.965\n",
      "18.39\n",
      "mode: \n",
      "0    13.42\n",
      "Name: total_bill, dtype: float64\n",
      "0     7.25\n",
      "1    13.81\n",
      "2    15.69\n",
      "3    17.92\n",
      "4    18.29\n",
      "5    20.29\n",
      "6    20.69\n",
      "7    21.01\n",
      "Name: total_bill, dtype: float64\n",
      "var: \n",
      "59.50397284899034\n",
      "83.57669702597403\n",
      "skew:\n",
      "1.4751303151132744\n",
      "1.0335991171799397\n",
      "kurtosis: \n",
      "2.206314458946415\n",
      "1.0362838368476273\n",
      "describe:\n",
      "count    68.000000\n",
      "mean     17.168676\n",
      "std       7.713882\n",
      "min       7.510000\n",
      "25%      12.235000\n",
      "50%      15.965000\n",
      "75%      19.532500\n",
      "max      43.110000\n",
      "Name: total_bill, dtype: float64\n",
      "count    176.000000\n",
      "mean      20.797159\n",
      "std        9.142029\n",
      "min        3.070000\n",
      "25%       14.437500\n",
      "50%       18.390000\n",
      "75%       25.282500\n",
      "max       50.810000\n",
      "Name: total_bill, dtype: float64\n"
     ]
    }
   ],
   "source": [
    "# lunch, dinner \n",
    "print(\"mean: \",lunch.mean(), dinner.mean(), \n",
    "\"std :\",lunch.std(), dinner.std(), \n",
    "\"median:\",lunch.median(), dinner.median(), \n",
    "\"mode: \",lunch.mode(), dinner.mode(), \n",
    "\"var: \",lunch.var(), dinner.var(),\n",
    "\"skew:\",lunch.skew(), dinner.skew(),\n",
    "\"kurtosis: \",lunch.kurt(), dinner.kurt(),\n",
    "\"describe:\",lunch.describe(), dinner.describe(), sep=\"\\n\")"
   ]
  },
  {
   "cell_type": "markdown",
   "metadata": {},
   "source": [
    "### 4.2 Chi-Square Test\n",
    "A chi-square test assesses whether observed frequencies differ from expected frequencies. Let's test the relationship between sex and whether the person tipped.\n",
    "\n",
    "The decision to reject or not reject the null hypothesis is based on the p-value. \n",
    "\n",
    "If the p-value is less than 0.05 (α = 0.05), the null hypothesis is rejected, and the alternative hypothesis is accepted."
   ]
  },
  {
   "cell_type": "markdown",
   "metadata": {},
   "source": [
    "#### Null Hypothesis (H₀):  \n",
    "There is no relationship between gender and tipping behavior. In other words, there is no difference between men and women in terms of whether they leave a tip or not.  \n",
    "\n",
    "#### Alternative Hypothesis (H₁):  \n",
    "There is a relationship between gender and tipping behavior. In other words, there is a difference between men and women in terms of whether they leave a tip or not."
   ]
  },
  {
   "cell_type": "code",
   "execution_count": 23,
   "metadata": {},
   "outputs": [
    {
     "name": "stdout",
     "output_type": "stream",
     "text": [
      "Chi2 Stat: 0.0, P-Value: 1.0\n",
      "Fail to reject the null hypothesis\n"
     ]
    }
   ],
   "source": [
    "contingency_table = pd.crosstab(df['sex_Female'], df['tip'] > 2)  # Male vs tip > 2\n",
    "chi2_stat, p_val, dof, expected = stats.chi2_contingency(contingency_table)\n",
    "print(f'Chi2 Stat: {chi2_stat}, P-Value: {p_val}')\n",
    "if p_val < 0.05:\n",
    "    print('Reject the null hypothesis')\n",
    "else:\n",
    "    print('Fail to reject the null hypothesis')"
   ]
  },
  {
   "cell_type": "markdown",
   "metadata": {},
   "source": [
    "**In both tests, the decision to reject or not reject the null hypothesis is based on the p-value. If the p-value is less than 0.05 (α = 0.05), the null hypothesis is rejected, and the alternative hypothesis is accepted.**"
   ]
  }
 ],
 "metadata": {
  "kernelspec": {
   "display_name": "Python 3",
   "language": "python",
   "name": "python3"
  },
  "language_info": {
   "codemirror_mode": {
    "name": "ipython",
    "version": 3
   },
   "file_extension": ".py",
   "mimetype": "text/x-python",
   "name": "python",
   "nbconvert_exporter": "python",
   "pygments_lexer": "ipython3",
   "version": "3.11.4"
  }
 },
 "nbformat": 4,
 "nbformat_minor": 2
}
